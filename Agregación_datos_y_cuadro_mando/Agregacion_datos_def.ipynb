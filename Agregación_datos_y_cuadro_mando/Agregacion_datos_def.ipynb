{
 "cells": [
  {
   "cell_type": "markdown",
   "metadata": {},
   "source": [
    "## Agregación datos de noticias, rating y lecturas de clientes\n",
    "\n",
    "**- Notebook utilizado para acumular la información diaria de noticias, datos de lecturas y ratings de la base de clientes. Los datos utilizados van del 7 al 31 de julio**\n",
    "\n",
    "<span style=\"color: red;\"> **CONSIDERACIONES:** Dado el tamaño de las bases utilizadas, el proceso de acumulación de información se realiza de forma bastante manual liberando espacio en memoria mediante el vaciado de tablas intermedias. El tamaño de las tablas generadas alcanza las 21.274 filas correspondientes a noticias y las 90.000 columnas relativas a datos de lectura y rating de los 45.000 suscriptores. En total casi 2.000 millones de datos. Este ejercicio se ha realizado con un máquina con 32 gb de memoria RAM, por lo que la ejecución del notebook utilizando un ordenador con menor capacidad puede dar lugar a errores de memoria.</span>\n",
    "\n",
    "**- Indice:**\n",
    "\n",
    "    - Carga librerías\n",
    "    - Importación datasets\n",
    "        - Dataframe periódicos\n",
    "        - Dataframes de clientes. \n",
    "            - Lectura de noticias\n",
    "            - Rating noticias\n",
    "        - Noticias freelance\n",
    "    - Control check sobre lecturas y puntuación de noticias\n",
    "    - Agrupación dataframes y depurado noticias\n",
    "    - Generación datos para cuadro de mando"
   ]
  },
  {
   "cell_type": "markdown",
   "metadata": {},
   "source": [
    "### Carga librerías"
   ]
  },
  {
   "cell_type": "code",
   "execution_count": 1,
   "metadata": {},
   "outputs": [],
   "source": [
    "import pandas as pd\n",
    "import seaborn as sns\n",
    "from sklearn.preprocessing import OneHotEncoder, LabelEncoder\n",
    "import numpy as np\n",
    "import sqlite3\n",
    "import glob\n",
    "import matplotlib.pyplot as plt"
   ]
  },
  {
   "cell_type": "markdown",
   "metadata": {},
   "source": [
    "### Importación datasets"
   ]
  },
  {
   "cell_type": "markdown",
   "metadata": {},
   "source": [
    "### Dataframes de periódicos"
   ]
  },
  {
   "cell_type": "code",
   "execution_count": 2,
   "metadata": {},
   "outputs": [],
   "source": [
    "# Importación dataframes de noticias y eliminación campo unnamed\n",
    "dfp_070720 = pd.read_csv('datos/A_news/news_completo_07072020.csv',encoding='utf-8-sig', sep=';'); dfp_070720.drop(dfp_070720.columns[dfp_070720.columns.str.contains('unnamed',case = False)],axis = 1, inplace = True)\n",
    "dfp_080720 = pd.read_csv('datos/A_news/news_completo_08072020.csv',encoding='utf-8-sig', sep=';'); dfp_080720.drop(dfp_080720.columns[dfp_080720.columns.str.contains('unnamed',case = False)],axis = 1, inplace = True)\n",
    "dfp_090720 = pd.read_csv('datos/A_news/news_completo_09072020.csv',encoding='utf-8-sig', sep=';'); dfp_090720.drop(dfp_090720.columns[dfp_090720.columns.str.contains('unnamed',case = False)],axis = 1, inplace = True)\n",
    "dfp_100720 = pd.read_csv('datos/A_news/news_completo_10072020.csv',encoding='utf-8-sig', sep=';'); dfp_100720.drop(dfp_100720.columns[dfp_100720.columns.str.contains('unnamed',case = False)],axis = 1, inplace = True)\n",
    "dfp_110720 = pd.read_csv('datos/A_news/news_completo_11072020.csv',encoding='utf-8-sig', sep=';'); dfp_110720.drop(dfp_110720.columns[dfp_110720.columns.str.contains('unnamed',case = False)],axis = 1, inplace = True)\n",
    "dfp_120720 = pd.read_csv('datos/A_news/news_completo_12072020.csv',encoding='utf-8-sig', sep=';'); dfp_120720.drop(dfp_120720.columns[dfp_120720.columns.str.contains('unnamed',case = False)],axis = 1, inplace = True)\n",
    "dfp_130720 = pd.read_csv('datos/A_news/news_completo_13072020.csv',encoding='utf-8-sig', sep=';'); dfp_130720.drop(dfp_130720.columns[dfp_130720.columns.str.contains('unnamed',case = False)],axis = 1, inplace = True)\n",
    "dfp_140720 = pd.read_csv('datos/A_news/news_completo_14072020.csv',encoding='utf-8-sig', sep=';'); dfp_140720.drop(dfp_140720.columns[dfp_140720.columns.str.contains('unnamed',case = False)],axis = 1, inplace = True)\n",
    "dfp_150720 = pd.read_csv('datos/A_news/news_completo_15072020.csv',encoding='utf-8-sig', sep=';'); dfp_150720.drop(dfp_150720.columns[dfp_150720.columns.str.contains('unnamed',case = False)],axis = 1, inplace = True)\n",
    "dfp_160720 = pd.read_csv('datos/A_news/news_completo_16072020.csv',encoding='utf-8-sig', sep=';'); dfp_160720.drop(dfp_160720.columns[dfp_160720.columns.str.contains('unnamed',case = False)],axis = 1, inplace = True)\n",
    "dfp_170720 = pd.read_csv('datos/A_news/news_completo_17072020.csv',encoding='utf-8-sig', sep=';'); dfp_170720.drop(dfp_170720.columns[dfp_170720.columns.str.contains('unnamed',case = False)],axis = 1, inplace = True)\n",
    "dfp_180720 = pd.read_csv('datos/A_news/news_completo_18072020.csv',encoding='utf-8-sig', sep=';'); dfp_180720.drop(dfp_180720.columns[dfp_180720.columns.str.contains('unnamed',case = False)],axis = 1, inplace = True)\n",
    "dfp_190720 = pd.read_csv('datos/A_news/news_completo_19072020.csv',encoding='utf-8-sig', sep=';'); dfp_190720.drop(dfp_190720.columns[dfp_190720.columns.str.contains('unnamed',case = False)],axis = 1, inplace = True)\n",
    "dfp_200720 = pd.read_csv('datos/A_news/news_completo_20072020.csv',encoding='utf-8-sig', sep=';'); dfp_200720.drop(dfp_200720.columns[dfp_200720.columns.str.contains('unnamed',case = False)],axis = 1, inplace = True)\n",
    "dfp_210720 = pd.read_csv('datos/A_news/news_completo_21072020.csv',encoding='utf-8-sig', sep=';'); dfp_210720.drop(dfp_210720.columns[dfp_210720.columns.str.contains('unnamed',case = False)],axis = 1, inplace = True)\n",
    "dfp_220720 = pd.read_csv('datos/A_news/news_completo_22072020.csv',encoding='utf-8-sig', sep=';'); dfp_220720.drop(dfp_220720.columns[dfp_220720.columns.str.contains('unnamed',case = False)],axis = 1, inplace = True)\n",
    "dfp_230720 = pd.read_csv('datos/A_news/news_completo_23072020.csv',encoding='utf-8-sig', sep=';'); dfp_230720.drop(dfp_230720.columns[dfp_230720.columns.str.contains('unnamed',case = False)],axis = 1, inplace = True)\n",
    "dfp_240720 = pd.read_csv('datos/A_news/news_completo_24072020.csv',encoding='utf-8-sig', sep=';'); dfp_240720.drop(dfp_240720.columns[dfp_240720.columns.str.contains('unnamed',case = False)],axis = 1, inplace = True)\n",
    "dfp_250720 = pd.read_csv('datos/A_news/news_completo_25072020.csv',encoding='utf-8-sig', sep=';'); dfp_250720.drop(dfp_250720.columns[dfp_250720.columns.str.contains('unnamed',case = False)],axis = 1, inplace = True)\n",
    "dfp_260720 = pd.read_csv('datos/A_news/news_completo_26072020.csv',encoding='utf-8-sig', sep=';'); dfp_260720.drop(dfp_260720.columns[dfp_260720.columns.str.contains('unnamed',case = False)],axis = 1, inplace = True)\n",
    "dfp_270720 = pd.read_csv('datos/A_news/news_completo_27072020.csv',encoding='utf-8-sig', sep=';'); dfp_270720.drop(dfp_270720.columns[dfp_270720.columns.str.contains('unnamed',case = False)],axis = 1, inplace = True)\n",
    "dfp_280720 = pd.read_csv('datos/A_news/news_completo_28072020.csv',encoding='utf-8-sig', sep=';'); dfp_280720.drop(dfp_280720.columns[dfp_280720.columns.str.contains('unnamed',case = False)],axis = 1, inplace = True)\n",
    "dfp_290720 = pd.read_csv('datos/A_news/news_completo_29072020.csv',encoding='utf-8-sig', sep=';'); dfp_290720.drop(dfp_290720.columns[dfp_290720.columns.str.contains('unnamed',case = False)],axis = 1, inplace = True)\n",
    "dfp_300720 = pd.read_csv('datos/A_news/news_completo_30072020.csv',encoding='utf-8-sig', sep=';'); dfp_300720.drop(dfp_300720.columns[dfp_300720.columns.str.contains('unnamed',case = False)],axis = 1, inplace = True)\n",
    "dfp_310720 = pd.read_csv('datos/A_news/news_completo_31072020.csv',encoding='utf-8-sig', sep=';'); dfp_310720.drop(dfp_310720.columns[dfp_310720.columns.str.contains('unnamed',case = False)],axis = 1, inplace = True)"
   ]
  },
  {
   "cell_type": "code",
   "execution_count": 3,
   "metadata": {},
   "outputs": [],
   "source": [
    "# Se prepara un nuevo campo para concatenar al identificador de la noticia la fecha del día al que corresponde\n",
    "new_id_070720 = dfp_070720['new_id']; new_id_070720 = [new_id_070720]; lista_070720 = ('_070720'); lista070720 = (new_id_070720[0]+lista_070720); lista070720 = pd.DataFrame((lista070720)) \n",
    "new_id_080720 = dfp_080720['new_id']; new_id_080720 = [new_id_080720]; lista_080720 = ('_080720'); lista080720 = (new_id_080720[0]+lista_080720); lista080720 = pd.DataFrame((lista080720))\n",
    "new_id_090720 = dfp_090720['new_id']; new_id_090720 = [new_id_090720]; lista_090720 = ('_090720'); lista090720 = (new_id_090720[0]+lista_090720); lista090720 = pd.DataFrame((lista090720))\n",
    "new_id_100720 = dfp_100720['new_id']; new_id_100720 = [new_id_100720]; lista_100720 = ('_100720'); lista100720 = (new_id_100720[0]+lista_100720); lista100720 = pd.DataFrame((lista100720))\n",
    "new_id_110720 = dfp_110720['new_id']; new_id_110720 = [new_id_110720]; lista_110720 = ('_110720'); lista110720 = (new_id_110720[0]+lista_110720); lista110720 = pd.DataFrame((lista110720))\n",
    "new_id_120720 = dfp_120720['new_id']; new_id_120720 = [new_id_120720]; lista_120720 = ('_120720'); lista120720 = (new_id_120720[0]+lista_120720); lista120720 = pd.DataFrame((lista120720))\n",
    "new_id_130720 = dfp_130720['new_id']; new_id_130720 = [new_id_130720]; lista_130720 = ('_130720'); lista130720 = (new_id_130720[0]+lista_130720); lista130720 = pd.DataFrame((lista130720))\n",
    "new_id_140720 = dfp_140720['new_id']; new_id_140720 = [new_id_140720]; lista_140720 = ('_140720'); lista140720 = (new_id_140720[0]+lista_140720); lista140720 = pd.DataFrame((lista140720))\n",
    "new_id_150720 = dfp_150720['new_id']; new_id_150720 = [new_id_150720]; lista_150720 = ('_150720'); lista150720 = (new_id_150720[0]+lista_150720); lista150720 = pd.DataFrame((lista150720))\n",
    "new_id_160720 = dfp_160720['new_id']; new_id_160720 = [new_id_160720]; lista_160720 = ('_160720'); lista160720 = (new_id_160720[0]+lista_160720); lista160720 = pd.DataFrame((lista160720))\n",
    "new_id_170720 = dfp_170720['new_id']; new_id_170720 = [new_id_170720]; lista_170720 = ('_170720'); lista170720 = (new_id_170720[0]+lista_170720); lista170720 = pd.DataFrame((lista170720))\n",
    "new_id_180720 = dfp_180720['new_id']; new_id_180720 = [new_id_180720]; lista_180720 = ('_180720'); lista180720 = (new_id_180720[0]+lista_180720); lista180720 = pd.DataFrame((lista180720))\n",
    "new_id_190720 = dfp_190720['new_id']; new_id_190720 = [new_id_190720]; lista_190720 = ('_190720'); lista190720 = (new_id_190720[0]+lista_190720); lista190720 = pd.DataFrame((lista190720))\n",
    "new_id_200720 = dfp_200720['new_id']; new_id_200720 = [new_id_200720]; lista_200720 = ('_200720'); lista200720 = (new_id_200720[0]+lista_200720); lista200720 = pd.DataFrame((lista200720))\n",
    "new_id_210720 = dfp_210720['new_id']; new_id_210720 = [new_id_210720]; lista_210720 = ('_210720'); lista210720 = (new_id_210720[0]+lista_210720); lista210720 = pd.DataFrame((lista210720))\n",
    "new_id_220720 = dfp_220720['new_id']; new_id_220720 = [new_id_220720]; lista_220720 = ('_220720'); lista220720 = (new_id_220720[0]+lista_220720); lista220720 = pd.DataFrame((lista220720))\n",
    "new_id_230720 = dfp_230720['new_id']; new_id_230720 = [new_id_230720]; lista_230720 = ('_230720'); lista230720 = (new_id_230720[0]+lista_230720); lista230720 = pd.DataFrame((lista230720))\n",
    "new_id_240720 = dfp_240720['new_id']; new_id_240720 = [new_id_240720]; lista_240720 = ('_240720'); lista240720 = (new_id_240720[0]+lista_240720); lista240720 = pd.DataFrame((lista240720))\n",
    "new_id_250720 = dfp_250720['new_id']; new_id_250720 = [new_id_250720]; lista_250720 = ('_250720'); lista250720 = (new_id_250720[0]+lista_250720); lista250720 = pd.DataFrame((lista250720))\n",
    "new_id_260720 = dfp_260720['new_id']; new_id_260720 = [new_id_260720]; lista_260720 = ('_260720'); lista260720 = (new_id_260720[0]+lista_260720); lista260720 = pd.DataFrame((lista260720))\n",
    "new_id_270720 = dfp_270720['new_id']; new_id_270720 = [new_id_270720]; lista_270720 = ('_270720'); lista270720 = (new_id_270720[0]+lista_270720); lista270720 = pd.DataFrame((lista270720))\n",
    "new_id_280720 = dfp_280720['new_id']; new_id_280720 = [new_id_280720]; lista_280720 = ('_280720'); lista280720 = (new_id_280720[0]+lista_280720); lista280720 = pd.DataFrame((lista280720))\n",
    "new_id_290720 = dfp_290720['new_id']; new_id_290720 = [new_id_290720]; lista_290720 = ('_290720'); lista290720 = (new_id_290720[0]+lista_290720); lista290720 = pd.DataFrame((lista290720))\n",
    "new_id_300720 = dfp_300720['new_id']; new_id_300720 = [new_id_300720]; lista_300720 = ('_300720'); lista300720 = (new_id_300720[0]+lista_300720); lista300720 = pd.DataFrame((lista300720))\n",
    "new_id_310720 = dfp_310720['new_id']; new_id_310720 = [new_id_310720]; lista_310720 = ('_310720'); lista310720 = (new_id_310720[0]+lista_310720); lista310720 = pd.DataFrame((lista310720))\n"
   ]
  },
  {
   "cell_type": "code",
   "execution_count": 4,
   "metadata": {},
   "outputs": [],
   "source": [
    "# Se elimina el id de la noticia y se añade nuevo id con la fecha correspondiente\n",
    "dfp_070720 = dfp_070720.drop('new_id', axis=1); dfp_070720 = pd.DataFrame(dfp_070720); dfp_070720 = pd.concat([lista070720, dfp_070720 ], axis=1)\n",
    "dfp_080720 = dfp_080720.drop('new_id', axis=1); dfp_080720 = pd.DataFrame(dfp_080720); dfp_080720 = pd.concat([lista080720, dfp_080720 ], axis=1)\n",
    "dfp_090720 = dfp_090720.drop('new_id', axis=1); dfp_090720 = pd.DataFrame(dfp_090720); dfp_090720 = pd.concat([lista090720, dfp_090720 ], axis=1)\n",
    "dfp_100720 = dfp_100720.drop('new_id', axis=1); dfp_100720 = pd.DataFrame(dfp_100720); dfp_100720 = pd.concat([lista100720, dfp_100720 ], axis=1)\n",
    "dfp_110720 = dfp_110720.drop('new_id', axis=1); dfp_110720 = pd.DataFrame(dfp_110720); dfp_110720 = pd.concat([lista110720, dfp_110720 ], axis=1)\n",
    "dfp_120720 = dfp_120720.drop('new_id', axis=1); dfp_120720 = pd.DataFrame(dfp_120720); dfp_120720 = pd.concat([lista120720, dfp_120720 ], axis=1)\n",
    "dfp_130720 = dfp_130720.drop('new_id', axis=1); dfp_130720 = pd.DataFrame(dfp_130720); dfp_130720 = pd.concat([lista130720, dfp_130720 ], axis=1)\n",
    "dfp_140720 = dfp_140720.drop('new_id', axis=1); dfp_140720 = pd.DataFrame(dfp_140720); dfp_140720 = pd.concat([lista140720, dfp_140720 ], axis=1)\n",
    "dfp_150720 = dfp_150720.drop('new_id', axis=1); dfp_150720 = pd.DataFrame(dfp_150720); dfp_150720 = pd.concat([lista150720, dfp_150720 ], axis=1)\n",
    "dfp_160720 = dfp_160720.drop('new_id', axis=1); dfp_160720 = pd.DataFrame(dfp_160720); dfp_160720 = pd.concat([lista160720, dfp_160720 ], axis=1)\n",
    "dfp_170720 = dfp_170720.drop('new_id', axis=1); dfp_170720 = pd.DataFrame(dfp_170720); dfp_170720 = pd.concat([lista170720, dfp_170720 ], axis=1)\n",
    "dfp_180720 = dfp_180720.drop('new_id', axis=1); dfp_180720 = pd.DataFrame(dfp_180720); dfp_180720 = pd.concat([lista180720, dfp_180720 ], axis=1)\n",
    "dfp_190720 = dfp_190720.drop('new_id', axis=1); dfp_190720 = pd.DataFrame(dfp_190720); dfp_190720 = pd.concat([lista190720, dfp_190720 ], axis=1)\n",
    "dfp_200720 = dfp_200720.drop('new_id', axis=1); dfp_200720 = pd.DataFrame(dfp_200720); dfp_200720 = pd.concat([lista200720, dfp_200720 ], axis=1)\n",
    "dfp_210720 = dfp_210720.drop('new_id', axis=1); dfp_210720 = pd.DataFrame(dfp_210720); dfp_210720 = pd.concat([lista210720, dfp_210720 ], axis=1)\n",
    "dfp_220720 = dfp_220720.drop('new_id', axis=1); dfp_220720 = pd.DataFrame(dfp_220720); dfp_220720 = pd.concat([lista220720, dfp_220720 ], axis=1)\n",
    "dfp_230720 = dfp_230720.drop('new_id', axis=1); dfp_230720 = pd.DataFrame(dfp_230720); dfp_230720 = pd.concat([lista230720, dfp_230720 ], axis=1)\n",
    "dfp_240720 = dfp_240720.drop('new_id', axis=1); dfp_240720 = pd.DataFrame(dfp_240720); dfp_240720 = pd.concat([lista240720, dfp_240720 ], axis=1)\n",
    "dfp_250720 = dfp_250720.drop('new_id', axis=1); dfp_250720 = pd.DataFrame(dfp_250720); dfp_250720 = pd.concat([lista250720, dfp_250720 ], axis=1)\n",
    "dfp_260720 = dfp_260720.drop('new_id', axis=1); dfp_260720 = pd.DataFrame(dfp_260720); dfp_260720 = pd.concat([lista260720, dfp_260720 ], axis=1)\n",
    "dfp_270720 = dfp_270720.drop('new_id', axis=1); dfp_270720 = pd.DataFrame(dfp_270720); dfp_270720 = pd.concat([lista270720, dfp_270720 ], axis=1)\n",
    "dfp_280720 = dfp_280720.drop('new_id', axis=1); dfp_280720 = pd.DataFrame(dfp_280720); dfp_280720 = pd.concat([lista280720, dfp_280720 ], axis=1)\n",
    "dfp_290720 = dfp_290720.drop('new_id', axis=1); dfp_290720 = pd.DataFrame(dfp_290720); dfp_290720 = pd.concat([lista290720, dfp_290720 ], axis=1)\n",
    "dfp_300720 = dfp_300720.drop('new_id', axis=1); dfp_300720 = pd.DataFrame(dfp_300720); dfp_300720 = pd.concat([lista300720, dfp_300720 ], axis=1)\n",
    "dfp_310720 = dfp_310720.drop('new_id', axis=1); dfp_310720 = pd.DataFrame(dfp_310720); dfp_310720 = pd.concat([lista310720, dfp_310720 ], axis=1)"
   ]
  },
  {
   "cell_type": "code",
   "execution_count": 5,
   "metadata": {},
   "outputs": [],
   "source": [
    "# Se concatenan las tablas diarias de noticias acumulando la información\n",
    "dfp_total = pd.concat([dfp_070720, dfp_080720, dfp_090720, dfp_100720, dfp_110720, dfp_120720, dfp_130720, \n",
    "                       dfp_140720, dfp_150720, dfp_160720, dfp_170720, dfp_180720, dfp_190720, dfp_200720,\n",
    "                       dfp_210720, dfp_220720, dfp_230720, dfp_240720, dfp_250720, dfp_260720, dfp_270720,\n",
    "                       dfp_280720, dfp_290720, dfp_300720, dfp_310720])"
   ]
  },
  {
   "cell_type": "markdown",
   "metadata": {},
   "source": [
    "### Dataframes de clientes - Lectura de noticias"
   ]
  },
  {
   "cell_type": "code",
   "execution_count": 6,
   "metadata": {},
   "outputs": [],
   "source": [
    "# Importamos dataframes de datos de lectura de clientes y añadimos sufijo con la fecha\n",
    "cl_070720 = pd.read_csv('datos/B_lecturas/clientes_lectura_07072020.csv',encoding='utf-8-sig', sep=';').add_suffix('_070720')\n",
    "cl_080720 = pd.read_csv('datos/B_lecturas/clientes_lectura_08072020.csv',encoding='utf-8-sig', sep=';').add_suffix('_080720')\n",
    "cl_090720 = pd.read_csv('datos/B_lecturas/clientes_lectura_09072020.csv',encoding='utf-8-sig', sep=';').add_suffix('_090720')\n",
    "cl_100720 = pd.read_csv('datos/B_lecturas/clientes_lectura_10072020.csv',encoding='utf-8-sig', sep=';').add_suffix('_100720')\n",
    "cl_110720 = pd.read_csv('datos/B_lecturas/clientes_lectura_11072020.csv',encoding='utf-8-sig', sep=';').add_suffix('_110720')\n",
    "cl_120720 = pd.read_csv('datos/B_lecturas/clientes_lectura_12072020.csv',encoding='utf-8-sig', sep=';').add_suffix('_120720')\n",
    "cl_130720 = pd.read_csv('datos/B_lecturas/clientes_susc_lectura_13072020.csv',encoding='utf-8-sig', sep=';').drop('suscripcion', axis=1).add_suffix('_130720')\n",
    "cl_140720 = pd.read_csv('datos/B_lecturas/clientes_susc_lectura_14072020.csv',encoding='utf-8-sig', sep=';').drop('suscripcion', axis=1).add_suffix('_140720')\n",
    "cl_150720 = pd.read_csv('datos/B_lecturas/clientes_susc_lectura_15072020.csv',encoding='utf-8-sig', sep=';').drop('suscripcion', axis=1).add_suffix('_150720')\n",
    "cl_160720 = pd.read_csv('datos/B_lecturas/clientes_susc_lectura_16072020.csv',encoding='utf-8-sig', sep=';').drop('suscripcion', axis=1).add_suffix('_160720')\n",
    "cl_170720 = pd.read_csv('datos/B_lecturas/clientes_susc_lectura_17072020.csv',encoding='utf-8-sig', sep=';').drop('suscripcion', axis=1).add_suffix('_170720')\n",
    "cl_180720 = pd.read_csv('datos/B_lecturas/clientes_susc_lectura_18072020.csv',encoding='utf-8-sig', sep=';').drop('suscripcion', axis=1).add_suffix('_180720')\n",
    "cl_190720 = pd.read_csv('datos/B_lecturas/clientes_susc_lectura_19072020.csv',encoding='utf-8-sig', sep=';').drop('suscripcion', axis=1).add_suffix('_190720')\n",
    "cl_200720 = pd.read_csv('datos/B_lecturas/clientes_susc_lectura_20072020.csv',encoding='utf-8-sig', sep=';').drop('suscripcion', axis=1).add_suffix('_200720')\n",
    "cl_210720 = pd.read_csv('datos/B_lecturas/clientes_susc_lectura_21072020.csv',encoding='utf-8-sig', sep=';').drop('suscripcion', axis=1).add_suffix('_210720')\n",
    "cl_220720 = pd.read_csv('datos/B_lecturas/clientes_susc_lectura_22072020.csv',encoding='utf-8-sig', sep=';').drop('suscripcion', axis=1).add_suffix('_220720')\n",
    "cl_230720 = pd.read_csv('datos/B_lecturas/clientes_susc_lectura_23072020.csv',encoding='utf-8-sig', sep=';').drop('suscripcion', axis=1).add_suffix('_230720')\n",
    "cl_240720 = pd.read_csv('datos/B_lecturas/clientes_susc_lectura_24072020.csv',encoding='utf-8-sig', sep=';').drop('suscripcion', axis=1).add_suffix('_240720')\n",
    "cl_250720 = pd.read_csv('datos/B_lecturas/clientes_susc_lectura_25072020.csv',encoding='utf-8-sig', sep=';').drop('suscripcion', axis=1).add_suffix('_250720')\n",
    "cl_260720 = pd.read_csv('datos/B_lecturas/clientes_susc_lectura_26072020.csv',encoding='utf-8-sig', sep=';').drop('suscripcion', axis=1).add_suffix('_260720')\n",
    "cl_270720 = pd.read_csv('datos/B_lecturas/clientes_susc_lectura_27072020.csv',encoding='utf-8-sig', sep=';').drop('suscripcion', axis=1).add_suffix('_270720')\n",
    "cl_280720 = pd.read_csv('datos/B_lecturas/clientes_susc_lectura_28072020.csv',encoding='utf-8-sig', sep=';').drop('suscripcion', axis=1).add_suffix('_280720')\n",
    "cl_290720 = pd.read_csv('datos/B_lecturas/clientes_susc_lectura_29072020.csv',encoding='utf-8-sig', sep=';').drop('suscripcion', axis=1).add_suffix('_290720')\n",
    "cl_300720 = pd.read_csv('datos/B_lecturas/clientes_susc_lectura_30072020.csv',encoding='utf-8-sig', sep=';').drop('suscripcion', axis=1).add_suffix('_300720')\n",
    "cl_310720 = pd.read_csv('datos/B_lecturas/clientes_susc_lectura_31072020.csv',encoding='utf-8-sig', sep=';').drop('suscripcion', axis=1).add_suffix('_310720')"
   ]
  },
  {
   "cell_type": "code",
   "execution_count": 7,
   "metadata": {},
   "outputs": [],
   "source": [
    "# Insertamos ID_cliente\n",
    "cl_070720.insert(0, 'Customer_ID', range(1, 1 + len(cl_070720)))\n",
    "cl_080720.insert(0, 'Customer_ID', range(1, 1 + len(cl_080720)))\n",
    "cl_090720.insert(0, 'Customer_ID', range(1, 1 + len(cl_090720)))\n",
    "cl_100720.insert(0, 'Customer_ID', range(1, 1 + len(cl_100720)))\n",
    "cl_110720.insert(0, 'Customer_ID', range(1, 1 + len(cl_110720)))\n",
    "cl_120720.insert(0, 'Customer_ID', range(1, 1 + len(cl_120720)))\n",
    "cl_130720.insert(0, 'Customer_ID', range(1, 1 + len(cl_130720)))\n",
    "cl_140720.insert(0, 'Customer_ID', range(1, 1 + len(cl_140720)))\n",
    "cl_150720.insert(0, 'Customer_ID', range(1, 1 + len(cl_150720)))\n",
    "cl_160720.insert(0, 'Customer_ID', range(1, 1 + len(cl_160720)))\n",
    "cl_170720.insert(0, 'Customer_ID', range(1, 1 + len(cl_170720)))\n",
    "cl_180720.insert(0, 'Customer_ID', range(1, 1 + len(cl_180720)))\n",
    "cl_190720.insert(0, 'Customer_ID', range(1, 1 + len(cl_190720)))\n",
    "cl_200720.insert(0, 'Customer_ID', range(1, 1 + len(cl_200720)))\n",
    "cl_210720.insert(0, 'Customer_ID', range(1, 1 + len(cl_210720)))\n",
    "cl_220720.insert(0, 'Customer_ID', range(1, 1 + len(cl_220720)))\n",
    "cl_230720.insert(0, 'Customer_ID', range(1, 1 + len(cl_230720)))\n",
    "cl_240720.insert(0, 'Customer_ID', range(1, 1 + len(cl_240720)))\n",
    "cl_250720.insert(0, 'Customer_ID', range(1, 1 + len(cl_250720)))\n",
    "cl_260720.insert(0, 'Customer_ID', range(1, 1 + len(cl_260720)))\n",
    "cl_270720.insert(0, 'Customer_ID', range(1, 1 + len(cl_270720)))\n",
    "cl_280720.insert(0, 'Customer_ID', range(1, 1 + len(cl_280720)))\n",
    "cl_290720.insert(0, 'Customer_ID', range(1, 1 + len(cl_290720)))\n",
    "cl_300720.insert(0, 'Customer_ID', range(1, 1 + len(cl_300720)))\n",
    "cl_310720.insert(0, 'Customer_ID', range(1, 1 + len(cl_310720)))\n",
    "\n",
    "# y eliminamos el campo unnamed\n",
    "cl_070720.drop(cl_070720.columns[cl_070720.columns.str.contains('unnamed',case = False)],axis = 1, inplace = True)\n",
    "cl_080720.drop(cl_080720.columns[cl_080720.columns.str.contains('unnamed',case = False)],axis = 1, inplace = True)\n",
    "cl_090720.drop(cl_090720.columns[cl_090720.columns.str.contains('unnamed',case = False)],axis = 1, inplace = True)\n",
    "cl_100720.drop(cl_100720.columns[cl_100720.columns.str.contains('unnamed',case = False)],axis = 1, inplace = True)\n",
    "cl_110720.drop(cl_110720.columns[cl_110720.columns.str.contains('unnamed',case = False)],axis = 1, inplace = True)\n",
    "cl_120720.drop(cl_120720.columns[cl_120720.columns.str.contains('unnamed',case = False)],axis = 1, inplace = True)\n",
    "cl_130720.drop(cl_130720.columns[cl_130720.columns.str.contains('unnamed',case = False)],axis = 1, inplace = True)\n",
    "cl_140720.drop(cl_140720.columns[cl_140720.columns.str.contains('unnamed',case = False)],axis = 1, inplace = True)\n",
    "cl_150720.drop(cl_150720.columns[cl_150720.columns.str.contains('unnamed',case = False)],axis = 1, inplace = True)\n",
    "cl_160720.drop(cl_160720.columns[cl_160720.columns.str.contains('unnamed',case = False)],axis = 1, inplace = True)\n",
    "cl_170720.drop(cl_170720.columns[cl_170720.columns.str.contains('unnamed',case = False)],axis = 1, inplace = True)\n",
    "cl_180720.drop(cl_180720.columns[cl_180720.columns.str.contains('unnamed',case = False)],axis = 1, inplace = True)\n",
    "cl_190720.drop(cl_190720.columns[cl_190720.columns.str.contains('unnamed',case = False)],axis = 1, inplace = True)\n",
    "cl_200720.drop(cl_200720.columns[cl_200720.columns.str.contains('unnamed',case = False)],axis = 1, inplace = True)\n",
    "cl_210720.drop(cl_210720.columns[cl_210720.columns.str.contains('unnamed',case = False)],axis = 1, inplace = True)\n",
    "cl_220720.drop(cl_220720.columns[cl_220720.columns.str.contains('unnamed',case = False)],axis = 1, inplace = True)\n",
    "cl_230720.drop(cl_230720.columns[cl_230720.columns.str.contains('unnamed',case = False)],axis = 1, inplace = True)\n",
    "cl_240720.drop(cl_240720.columns[cl_240720.columns.str.contains('unnamed',case = False)],axis = 1, inplace = True)\n",
    "cl_250720.drop(cl_250720.columns[cl_250720.columns.str.contains('unnamed',case = False)],axis = 1, inplace = True)\n",
    "cl_260720.drop(cl_260720.columns[cl_260720.columns.str.contains('unnamed',case = False)],axis = 1, inplace = True)\n",
    "cl_270720.drop(cl_270720.columns[cl_270720.columns.str.contains('unnamed',case = False)],axis = 1, inplace = True)\n",
    "cl_280720.drop(cl_280720.columns[cl_280720.columns.str.contains('unnamed',case = False)],axis = 1, inplace = True)\n",
    "cl_290720.drop(cl_290720.columns[cl_290720.columns.str.contains('unnamed',case = False)],axis = 1, inplace = True)\n",
    "cl_300720.drop(cl_300720.columns[cl_300720.columns.str.contains('unnamed',case = False)],axis = 1, inplace = True)\n",
    "cl_310720.drop(cl_310720.columns[cl_310720.columns.str.contains('unnamed',case = False)],axis = 1, inplace = True)"
   ]
  },
  {
   "cell_type": "code",
   "execution_count": 8,
   "metadata": {},
   "outputs": [],
   "source": [
    "# Acumulamos diariamente la información sobre lecturas de noticias eliminando tablas intermedias\n",
    "cl_total_080720 = pd.merge(cl_070720,cl_080720, on='Customer_ID')\n",
    "cl_total_090720 = pd.merge(cl_total_080720,cl_090720, on='Customer_ID') ; cl_total_080720 = pd.DataFrame()\n",
    "cl_total_100720 = pd.merge(cl_total_090720,cl_100720, on='Customer_ID') ; cl_total_090720 = pd.DataFrame()\n",
    "cl_total_110720 = pd.merge(cl_total_100720,cl_110720, on='Customer_ID') ; cl_total_100720 = pd.DataFrame()\n",
    "cl_total_120720 = pd.merge(cl_total_110720,cl_120720, on='Customer_ID') ; cl_total_110720 = pd.DataFrame()\n",
    "cl_total_130720 = pd.merge(cl_total_120720,cl_130720, on='Customer_ID') ; cl_total_120720 = pd.DataFrame()\n",
    "cl_total_140720 = pd.merge(cl_total_130720,cl_140720, on='Customer_ID') ; cl_total_130720 = pd.DataFrame()\n",
    "cl_total_150720 = pd.merge(cl_total_140720,cl_150720, on='Customer_ID') ; cl_total_140720 = pd.DataFrame()\n",
    "cl_total_160720 = pd.merge(cl_total_150720,cl_160720, on='Customer_ID') ; cl_total_150720 = pd.DataFrame()\n",
    "cl_total_170720 = pd.merge(cl_total_160720,cl_170720, on='Customer_ID') ; cl_total_160720 = pd.DataFrame()\n",
    "cl_total_180720 = pd.merge(cl_total_170720,cl_180720, on='Customer_ID') ; cl_total_170720 = pd.DataFrame()\n",
    "cl_total_190720 = pd.merge(cl_total_180720,cl_190720, on='Customer_ID') ; cl_total_180720 = pd.DataFrame()\n",
    "cl_total_200720 = pd.merge(cl_total_190720,cl_200720, on='Customer_ID') ; cl_total_190720 = pd.DataFrame()\n",
    "cl_total_210720 = pd.merge(cl_total_200720,cl_210720, on='Customer_ID') ; cl_total_200720 = pd.DataFrame()\n",
    "cl_total_220720 = pd.merge(cl_total_210720,cl_220720, on='Customer_ID') ; cl_total_210720 = pd.DataFrame()\n",
    "cl_total_230720 = pd.merge(cl_total_220720,cl_230720, on='Customer_ID') ; cl_total_220720 = pd.DataFrame()\n",
    "cl_total_240720 = pd.merge(cl_total_230720,cl_240720, on='Customer_ID') ; cl_total_230720 = pd.DataFrame()\n",
    "cl_total_250720 = pd.merge(cl_total_240720,cl_250720, on='Customer_ID') ; cl_total_240720 = pd.DataFrame()\n",
    "cl_total_260720 = pd.merge(cl_total_250720,cl_260720, on='Customer_ID') ; cl_total_250720 = pd.DataFrame()\n",
    "cl_total_270720 = pd.merge(cl_total_260720,cl_270720, on='Customer_ID') ; cl_total_260720 = pd.DataFrame()\n",
    "cl_total_280720 = pd.merge(cl_total_270720,cl_280720, on='Customer_ID') ; cl_total_270720 = pd.DataFrame()\n",
    "cl_total_290720 = pd.merge(cl_total_280720,cl_290720, on='Customer_ID') ; cl_total_280720 = pd.DataFrame()\n",
    "cl_total_300720 = pd.merge(cl_total_290720,cl_300720, on='Customer_ID') ; cl_total_290720 = pd.DataFrame()\n",
    "cl_total_310720 = pd.merge(cl_total_300720,cl_310720, on='Customer_ID') ; cl_total_300720 = pd.DataFrame()"
   ]
  },
  {
   "cell_type": "code",
   "execution_count": 9,
   "metadata": {},
   "outputs": [],
   "source": [
    "# Generamos tabla con el total de lecturas en base a los últimos datos acumulados disponibles\n",
    "cl_total = cl_total_310720.T.add_prefix('cl_')\n",
    "# Eliminamos el customerID que se va a fila al trasponer\n",
    "cl_total = cl_total.drop(cl_total.index[0]) \n",
    "# Consideramos índice como columna y modificamos nombre para cruce\n",
    "cl_total = cl_total.reset_index(level=None, drop=False, inplace=False, col_level=0, col_fill='').rename(columns={'index': 'new_id'}) "
   ]
  },
  {
   "cell_type": "markdown",
   "metadata": {},
   "source": [
    "### Dataframes de clientes - Rating noticias\n",
    "\n",
    "Aplicamos la misma metodología utilizada para los datos de lecturas para las puntuaciones de los usuarios"
   ]
  },
  {
   "cell_type": "code",
   "execution_count": 10,
   "metadata": {},
   "outputs": [],
   "source": [
    "# Al igual que para datos de lecturas, importamos dataframes de datos de puntuación de los clientes y añadimos sufijo fecha\n",
    "cr_070720 = pd.read_csv('datos/C_ratings/clientes_rank_07072020.csv',encoding='utf-8-sig', sep=';').add_suffix('_070720')\n",
    "cr_080720 = pd.read_csv('datos/C_ratings/clientes_rank_08072020.csv',encoding='utf-8-sig', sep=';').add_suffix('_080720')\n",
    "cr_090720 = pd.read_csv('datos/C_ratings/clientes_rank_09072020.csv',encoding='utf-8-sig', sep=';').add_suffix('_090720')\n",
    "cr_100720 = pd.read_csv('datos/C_ratings/clientes_rank_10072020.csv',encoding='utf-8-sig', sep=';').add_suffix('_100720')\n",
    "cr_110720 = pd.read_csv('datos/C_ratings/clientes_rank_11072020.csv',encoding='utf-8-sig', sep=';').add_suffix('_110720')\n",
    "cr_120720 = pd.read_csv('datos/C_ratings/clientes_rank_12072020.csv',encoding='utf-8-sig', sep=';').add_suffix('_120720')\n",
    "cr_130720 = pd.read_csv('datos/C_ratings/clientes_susc_rank_13072020.csv',encoding='utf-8-sig', sep=';').drop('suscripcion', axis=1).add_suffix('_130720')\n",
    "cr_140720 = pd.read_csv('datos/C_ratings/clientes_susc_rank_14072020.csv',encoding='utf-8-sig', sep=';').drop('suscripcion', axis=1).add_suffix('_140720')\n",
    "cr_150720 = pd.read_csv('datos/C_ratings/clientes_susc_rank_15072020.csv',encoding='utf-8-sig', sep=';').drop('suscripcion', axis=1).add_suffix('_150720')\n",
    "cr_160720 = pd.read_csv('datos/C_ratings/clientes_susc_rank_16072020.csv',encoding='utf-8-sig', sep=';').drop('suscripcion', axis=1).add_suffix('_160720')\n",
    "cr_170720 = pd.read_csv('datos/C_ratings/clientes_susc_rank_17072020.csv',encoding='utf-8-sig', sep=';').drop('suscripcion', axis=1).add_suffix('_170720')\n",
    "cr_180720 = pd.read_csv('datos/C_ratings/clientes_susc_rank_18072020.csv',encoding='utf-8-sig', sep=';').drop('suscripcion', axis=1).add_suffix('_180720')\n",
    "cr_190720 = pd.read_csv('datos/C_ratings/clientes_susc_rank_19072020.csv',encoding='utf-8-sig', sep=';').drop('suscripcion', axis=1).add_suffix('_190720')\n",
    "cr_200720 = pd.read_csv('datos/C_ratings/clientes_susc_rank_20072020.csv',encoding='utf-8-sig', sep=';').drop('suscripcion', axis=1).add_suffix('_200720')\n",
    "cr_210720 = pd.read_csv('datos/C_ratings/clientes_susc_rank_21072020.csv',encoding='utf-8-sig', sep=';').drop('suscripcion', axis=1).add_suffix('_210720')\n",
    "cr_220720 = pd.read_csv('datos/C_ratings/clientes_susc_rank_22072020.csv',encoding='utf-8-sig', sep=';').drop('suscripcion', axis=1).add_suffix('_220720')\n",
    "cr_230720 = pd.read_csv('datos/C_ratings/clientes_susc_rank_23072020.csv',encoding='utf-8-sig', sep=';').drop('suscripcion', axis=1).add_suffix('_230720')\n",
    "cr_240720 = pd.read_csv('datos/C_ratings/clientes_susc_rank_24072020.csv',encoding='utf-8-sig', sep=';').drop('suscripcion', axis=1).add_suffix('_240720')\n",
    "cr_250720 = pd.read_csv('datos/C_ratings/clientes_susc_rank_25072020.csv',encoding='utf-8-sig', sep=';').drop('suscripcion', axis=1).add_suffix('_250720')\n",
    "cr_260720 = pd.read_csv('datos/C_ratings/clientes_susc_rank_26072020.csv',encoding='utf-8-sig', sep=';').drop('suscripcion', axis=1).add_suffix('_260720')\n",
    "cr_270720 = pd.read_csv('datos/C_ratings/clientes_susc_rank_27072020.csv',encoding='utf-8-sig', sep=';').drop('suscripcion', axis=1).add_suffix('_270720')\n",
    "cr_280720 = pd.read_csv('datos/C_ratings/clientes_susc_rank_28072020.csv',encoding='utf-8-sig', sep=';').drop('suscripcion', axis=1).add_suffix('_280720')\n",
    "cr_290720 = pd.read_csv('datos/C_ratings/clientes_susc_rank_29072020.csv',encoding='utf-8-sig', sep=';').drop('suscripcion', axis=1).add_suffix('_290720')\n",
    "cr_300720 = pd.read_csv('datos/C_ratings/clientes_susc_rank_30072020.csv',encoding='utf-8-sig', sep=';').drop('suscripcion', axis=1).add_suffix('_300720')\n",
    "cr_310720 = pd.read_csv('datos/C_ratings/clientes_susc_rank_31072020.csv',encoding='utf-8-sig', sep=';').drop('suscripcion', axis=1).add_suffix('_310720')"
   ]
  },
  {
   "cell_type": "code",
   "execution_count": 11,
   "metadata": {},
   "outputs": [],
   "source": [
    "# Insertamos ID_cliente\n",
    "cr_070720.insert(0, 'Customer_ID', range(1, 1 + len(cr_070720)))\n",
    "cr_080720.insert(0, 'Customer_ID', range(1, 1 + len(cr_080720)))\n",
    "cr_090720.insert(0, 'Customer_ID', range(1, 1 + len(cr_090720)))\n",
    "cr_100720.insert(0, 'Customer_ID', range(1, 1 + len(cr_100720)))\n",
    "cr_110720.insert(0, 'Customer_ID', range(1, 1 + len(cr_110720)))\n",
    "cr_120720.insert(0, 'Customer_ID', range(1, 1 + len(cr_120720)))\n",
    "cr_130720.insert(0, 'Customer_ID', range(1, 1 + len(cr_130720)))\n",
    "cr_140720.insert(0, 'Customer_ID', range(1, 1 + len(cr_140720)))\n",
    "cr_150720.insert(0, 'Customer_ID', range(1, 1 + len(cr_150720)))\n",
    "cr_160720.insert(0, 'Customer_ID', range(1, 1 + len(cr_160720)))\n",
    "cr_170720.insert(0, 'Customer_ID', range(1, 1 + len(cr_170720)))\n",
    "cr_180720.insert(0, 'Customer_ID', range(1, 1 + len(cr_180720)))\n",
    "cr_190720.insert(0, 'Customer_ID', range(1, 1 + len(cr_190720)))\n",
    "cr_200720.insert(0, 'Customer_ID', range(1, 1 + len(cr_200720)))\n",
    "cr_210720.insert(0, 'Customer_ID', range(1, 1 + len(cr_210720)))\n",
    "cr_220720.insert(0, 'Customer_ID', range(1, 1 + len(cr_220720)))\n",
    "cr_230720.insert(0, 'Customer_ID', range(1, 1 + len(cr_230720)))\n",
    "cr_240720.insert(0, 'Customer_ID', range(1, 1 + len(cr_240720)))\n",
    "cr_250720.insert(0, 'Customer_ID', range(1, 1 + len(cr_250720)))\n",
    "cr_260720.insert(0, 'Customer_ID', range(1, 1 + len(cr_260720)))\n",
    "cr_270720.insert(0, 'Customer_ID', range(1, 1 + len(cr_270720)))\n",
    "cr_280720.insert(0, 'Customer_ID', range(1, 1 + len(cr_280720)))\n",
    "cr_290720.insert(0, 'Customer_ID', range(1, 1 + len(cr_290720)))\n",
    "cr_300720.insert(0, 'Customer_ID', range(1, 1 + len(cr_300720)))\n",
    "cr_310720.insert(0, 'Customer_ID', range(1, 1 + len(cr_310720)))\n",
    "\n",
    "# y eliminamos el campo unnamed\n",
    "cr_070720.drop(cr_070720.columns[cr_070720.columns.str.contains('unnamed',case = False)],axis = 1, inplace = True)\n",
    "cr_080720.drop(cr_080720.columns[cr_080720.columns.str.contains('unnamed',case = False)],axis = 1, inplace = True)\n",
    "cr_090720.drop(cr_090720.columns[cr_090720.columns.str.contains('unnamed',case = False)],axis = 1, inplace = True)\n",
    "cr_100720.drop(cr_100720.columns[cr_100720.columns.str.contains('unnamed',case = False)],axis = 1, inplace = True)\n",
    "cr_110720.drop(cr_110720.columns[cr_110720.columns.str.contains('unnamed',case = False)],axis = 1, inplace = True)\n",
    "cr_120720.drop(cr_120720.columns[cr_120720.columns.str.contains('unnamed',case = False)],axis = 1, inplace = True)\n",
    "cr_130720.drop(cr_130720.columns[cr_130720.columns.str.contains('unnamed',case = False)],axis = 1, inplace = True)\n",
    "cr_140720.drop(cr_140720.columns[cr_140720.columns.str.contains('unnamed',case = False)],axis = 1, inplace = True)\n",
    "cr_150720.drop(cr_150720.columns[cr_150720.columns.str.contains('unnamed',case = False)],axis = 1, inplace = True)\n",
    "cr_160720.drop(cr_160720.columns[cr_160720.columns.str.contains('unnamed',case = False)],axis = 1, inplace = True)\n",
    "cr_170720.drop(cr_170720.columns[cr_170720.columns.str.contains('unnamed',case = False)],axis = 1, inplace = True)\n",
    "cr_180720.drop(cr_180720.columns[cr_180720.columns.str.contains('unnamed',case = False)],axis = 1, inplace = True)\n",
    "cr_190720.drop(cr_190720.columns[cr_190720.columns.str.contains('unnamed',case = False)],axis = 1, inplace = True)\n",
    "cr_200720.drop(cr_200720.columns[cr_200720.columns.str.contains('unnamed',case = False)],axis = 1, inplace = True)\n",
    "cr_210720.drop(cr_210720.columns[cr_210720.columns.str.contains('unnamed',case = False)],axis = 1, inplace = True)\n",
    "cr_220720.drop(cr_220720.columns[cr_220720.columns.str.contains('unnamed',case = False)],axis = 1, inplace = True)\n",
    "cr_230720.drop(cr_230720.columns[cr_230720.columns.str.contains('unnamed',case = False)],axis = 1, inplace = True)\n",
    "cr_240720.drop(cr_240720.columns[cr_240720.columns.str.contains('unnamed',case = False)],axis = 1, inplace = True)\n",
    "cr_250720.drop(cr_250720.columns[cr_250720.columns.str.contains('unnamed',case = False)],axis = 1, inplace = True)\n",
    "cr_260720.drop(cr_260720.columns[cr_260720.columns.str.contains('unnamed',case = False)],axis = 1, inplace = True)\n",
    "cr_270720.drop(cr_270720.columns[cr_270720.columns.str.contains('unnamed',case = False)],axis = 1, inplace = True)\n",
    "cr_280720.drop(cr_280720.columns[cr_280720.columns.str.contains('unnamed',case = False)],axis = 1, inplace = True)\n",
    "cr_290720.drop(cr_290720.columns[cr_290720.columns.str.contains('unnamed',case = False)],axis = 1, inplace = True)\n",
    "cr_300720.drop(cr_300720.columns[cr_300720.columns.str.contains('unnamed',case = False)],axis = 1, inplace = True)\n",
    "cr_310720.drop(cr_310720.columns[cr_310720.columns.str.contains('unnamed',case = False)],axis = 1, inplace = True)"
   ]
  },
  {
   "cell_type": "code",
   "execution_count": 12,
   "metadata": {},
   "outputs": [],
   "source": [
    "# Acumulamos diariamente la información sobre lecturas de noticias eliminando tablas intermedias\n",
    "cr_total_080720 = pd.merge(cr_070720,cr_080720, on='Customer_ID')\n",
    "cr_total_090720 = pd.merge(cr_total_080720,cr_090720, on='Customer_ID') ; cr_total_080720 = pd.DataFrame()\n",
    "cr_total_100720 = pd.merge(cr_total_090720,cr_100720, on='Customer_ID') ; cr_total_090720 = pd.DataFrame()\n",
    "cr_total_110720 = pd.merge(cr_total_100720,cr_110720, on='Customer_ID') ; cr_total_100720 = pd.DataFrame()\n",
    "cr_total_120720 = pd.merge(cr_total_110720,cr_120720, on='Customer_ID') ; cr_total_110720 = pd.DataFrame()\n",
    "cr_total_130720 = pd.merge(cr_total_120720,cr_130720, on='Customer_ID') ; cr_total_120720 = pd.DataFrame()\n",
    "cr_total_140720 = pd.merge(cr_total_130720,cr_140720, on='Customer_ID') ; cr_total_130720 = pd.DataFrame()\n",
    "cr_total_150720 = pd.merge(cr_total_140720,cr_150720, on='Customer_ID') ; cr_total_140720 = pd.DataFrame()\n",
    "cr_total_160720 = pd.merge(cr_total_150720,cr_160720, on='Customer_ID') ; cr_total_150720 = pd.DataFrame()\n",
    "cr_total_170720 = pd.merge(cr_total_160720,cr_170720, on='Customer_ID') ; cr_total_160720 = pd.DataFrame()\n",
    "cr_total_180720 = pd.merge(cr_total_170720,cr_180720, on='Customer_ID') ; cr_total_170720 = pd.DataFrame()\n",
    "cr_total_190720 = pd.merge(cr_total_180720,cr_190720, on='Customer_ID') ; cr_total_180720 = pd.DataFrame()\n",
    "cr_total_200720 = pd.merge(cr_total_190720,cr_200720, on='Customer_ID') ; cr_total_190720 = pd.DataFrame()\n",
    "cr_total_210720 = pd.merge(cr_total_200720,cr_210720, on='Customer_ID') ; cr_total_200720 = pd.DataFrame()\n",
    "cr_total_220720 = pd.merge(cr_total_210720,cr_220720, on='Customer_ID') ; cr_total_210720 = pd.DataFrame()\n",
    "cr_total_230720 = pd.merge(cr_total_220720,cr_230720, on='Customer_ID') ; cr_total_220720 = pd.DataFrame()\n",
    "cr_total_240720 = pd.merge(cr_total_230720,cr_240720, on='Customer_ID') ; cr_total_230720 = pd.DataFrame()\n",
    "cr_total_250720 = pd.merge(cr_total_240720,cr_250720, on='Customer_ID') ; cr_total_240720 = pd.DataFrame()\n",
    "cr_total_260720 = pd.merge(cr_total_250720,cr_260720, on='Customer_ID') ; cr_total_250720 = pd.DataFrame()\n",
    "cr_total_270720 = pd.merge(cr_total_260720,cr_270720, on='Customer_ID') ; cr_total_260720 = pd.DataFrame()\n",
    "cr_total_280720 = pd.merge(cr_total_270720,cr_280720, on='Customer_ID') ; cr_total_270720 = pd.DataFrame()\n",
    "cr_total_290720 = pd.merge(cr_total_280720,cr_290720, on='Customer_ID') ; cr_total_280720 = pd.DataFrame()\n",
    "cr_total_300720 = pd.merge(cr_total_290720,cr_300720, on='Customer_ID') ; cr_total_290720 = pd.DataFrame()\n",
    "cr_total_310720 = pd.merge(cr_total_300720,cr_310720, on='Customer_ID') ; cr_total_300720 = pd.DataFrame()"
   ]
  },
  {
   "cell_type": "code",
   "execution_count": 13,
   "metadata": {},
   "outputs": [],
   "source": [
    "# Generamos tabla con el total de lecturas en base a los últimos datos acumulados disponibles\n",
    "cr_total = cr_total_310720.T.add_prefix('cr_')\n",
    "# Eliminamos el customerID que se va a fila al trasponer\n",
    "cr_total = cr_total.drop(cr_total.index[0]) \n",
    "# Consideramos índice como columna y modificamos nombre para cruce\n",
    "cr_total = cr_total.reset_index(level=None, drop=False, inplace=False, col_level=0, col_fill='').rename(columns={'index': 'new_id'}) "
   ]
  },
  {
   "cell_type": "markdown",
   "metadata": {},
   "source": [
    "### Noticias Freelance"
   ]
  },
  {
   "cell_type": "code",
   "execution_count": 14,
   "metadata": {},
   "outputs": [],
   "source": [
    "# Se obtienen los dataframes de noticias de freelances y se elimina de los dataframe de periódicos el campo unnamed\n",
    "free_190720 = pd.read_csv('datos/D_freelance/freelance_19072020.csv',encoding='utf-8-sig', sep=';'); free_190720.drop(free_190720.columns[free_190720.columns.str.contains('unnamed',case = False)],axis = 1, inplace = True)\n",
    "free_200720 = pd.read_csv('datos/D_freelance/freelance_20072020.csv',encoding='utf-8-sig', sep=';'); free_200720.drop(free_190720.columns[free_190720.columns.str.contains('unnamed',case = False)],axis = 1, inplace = True)\n",
    "free_210720 = pd.read_csv('datos/D_freelance/freelance_21072020.csv',encoding='utf-8-sig', sep=';'); free_210720.drop(free_190720.columns[free_190720.columns.str.contains('unnamed',case = False)],axis = 1, inplace = True)\n",
    "free_220720 = pd.read_csv('datos/D_freelance/freelance_22072020.csv',encoding='utf-8-sig', sep=';'); free_220720.drop(free_190720.columns[free_190720.columns.str.contains('unnamed',case = False)],axis = 1, inplace = True)\n",
    "free_240720 = pd.read_csv('datos/D_freelance/freelance_24072020.csv',encoding='utf-8-sig', sep=';'); free_240720.drop(free_190720.columns[free_190720.columns.str.contains('unnamed',case = False)],axis = 1, inplace = True)\n",
    "\n",
    "# Se prepara un nuevo campo para concatenar al identificador de la noticia la fecha del día al que corresponde\n",
    "new_id_free_190720 = free_190720['new_id']; new_id_free_190720 = [new_id_free_190720]; lista_free_190720 = ('_190720'); lista_free_190720 = (new_id_free_190720[0]+lista_free_190720); lista_free_190720 = pd.DataFrame((lista_free_190720))\n",
    "new_id_free_200720 = free_200720['new_id']; new_id_free_200720 = [new_id_free_200720]; lista_free_200720 = ('_200720'); lista_free_200720 = (new_id_free_200720[0]+lista_free_200720); lista_free_200720 = pd.DataFrame((lista_free_200720))\n",
    "new_id_free_210720 = free_210720['new_id']; new_id_free_210720 = [new_id_free_210720]; lista_free_210720 = ('_210720'); lista_free_210720 = (new_id_free_210720[0]+lista_free_210720); lista_free_210720 = pd.DataFrame((lista_free_210720))\n",
    "new_id_free_220720 = free_220720['new_id']; new_id_free_220720 = [new_id_free_220720]; lista_free_220720 = ('_220720'); lista_free_220720 = (new_id_free_220720[0]+lista_free_220720); lista_free_220720 = pd.DataFrame((lista_free_220720))\n",
    "new_id_free_240720 = free_240720['new_id']; new_id_free_240720 = [new_id_free_240720]; lista_free_240720 = ('_240720'); lista_free_240720 = (new_id_free_240720[0]+lista_free_240720); lista_free_240720 = pd.DataFrame((lista_free_240720))\n",
    "\n",
    "# Se elimina el id de la noticia y se añade nuevo id con la fecha correspondiente\n",
    "free_190720 = free_190720.drop('new_id', axis=1); free_190720 = pd.DataFrame(free_190720); free_190720 = pd.concat([lista_free_190720, free_190720], axis=1)\n",
    "free_200720 = free_200720.drop('new_id', axis=1); free_200720 = pd.DataFrame(free_200720); free_200720 = pd.concat([lista_free_200720, free_200720], axis=1)\n",
    "free_210720 = free_210720.drop('new_id', axis=1); free_210720 = pd.DataFrame(free_210720); free_210720 = pd.concat([lista_free_210720, free_210720], axis=1)\n",
    "free_220720 = free_220720.drop('new_id', axis=1); free_220720 = pd.DataFrame(free_220720); free_220720 = pd.concat([lista_free_220720, free_220720], axis=1)\n",
    "free_240720 = free_240720.drop('new_id', axis=1); free_240720 = pd.DataFrame(free_240720); free_240720 = pd.concat([lista_free_240720, free_240720], axis=1)\n",
    "\n",
    "# Se concatenan las tablas diarias de noticias acumulando la información\n",
    "df_free = pd.concat([free_190720, free_200720, free_210720, free_220720, free_240720])"
   ]
  },
  {
   "cell_type": "markdown",
   "metadata": {},
   "source": [
    "### Suscripciones\n",
    "\n",
    "Creamos dataframe partiendo de la importación de últimos datos disponibles con el ID cliente y su tipo de suscripción."
   ]
  },
  {
   "cell_type": "code",
   "execution_count": 15,
   "metadata": {},
   "outputs": [],
   "source": [
    "suscripciones_df = pd.read_csv('datos/B_lecturas/clientes_susc_lectura_31072020.csv', usecols=[1], encoding='utf-8-sig', sep=';')\n",
    "suscripciones_df.insert(0, 'Customer_ID', range(1, 1+len(suscripciones_df)))\n",
    "suscripciones_df.drop(suscripciones_df.columns[suscripciones_df.columns.str.contains('unnamed',case = False)],axis = 1, inplace = True)"
   ]
  },
  {
   "cell_type": "markdown",
   "metadata": {},
   "source": [
    "### Control check sobre lecturas y puntuación de noticias\n",
    "\n",
    "Realizamos un control sobre la importación de los datos para asegurar que se está realizando bien la importación de los datos de noticias, lecturas y ratings tanto diariamente como su acumulado final.\n",
    "\n",
    "Posteriormente liberamos toda la memoria posible de datos intermedios que no se van a volver a utilizar en el proceso."
   ]
  },
  {
   "cell_type": "code",
   "execution_count": 16,
   "metadata": {},
   "outputs": [
    {
     "name": "stdout",
     "output_type": "stream",
     "text": [
      "(90000, 268) (90000, 268) (267, 10)\n",
      "(90000, 268) (90000, 268) (267, 10)\n",
      "(90000, 485) (90000, 485) (484, 10)\n",
      "(90000, 640) (90000, 640) (639, 10)\n",
      "(90000, 734) (90000, 734) (733, 10)\n",
      "(90000, 743) (90000, 743) (742, 10)\n",
      "(45000, 973) (45000, 973) (972, 10)\n",
      "(45000, 953) (45000, 953) (952, 10)\n",
      "(45000, 998) (45000, 998) (997, 10)\n",
      "(45000, 1059) (45000, 1059) (1058, 10)\n",
      "(45000, 1051) (45000, 1051) (1050, 10)\n",
      "(45000, 1020) (45000, 1020) (1019, 10)\n",
      "(45000, 1024) (45000, 1024) (1023, 10)\n",
      "(45000, 1014) (45000, 1014) (1013, 10)\n",
      "(45000, 1051) (45000, 1051) (1050, 10)\n",
      "(45000, 1020) (45000, 1020) (1019, 10)\n",
      "(45000, 1042) (45000, 1042) (1041, 10)\n",
      "(45000, 1040) (45000, 1040) (1039, 10)\n",
      "(45000, 828) (45000, 828) (827, 10)\n",
      "(45000, 833) (45000, 833) (832, 10)\n",
      "(45000, 845) (45000, 845) (844, 10)\n",
      "(45000, 870) (45000, 870) (869, 10)\n",
      "(45000, 860) (45000, 860) (859, 10)\n",
      "(45000, 810) (45000, 810) (809, 10)\n",
      "(45000, 870) (45000, 870) (869, 10)\n",
      "(21274, 45001) (21274, 45001)\n"
     ]
    }
   ],
   "source": [
    "print(cl_070720.shape, cr_070720.shape, dfp_070720.shape)\n",
    "print(cl_080720.shape, cr_080720.shape, dfp_080720.shape)\n",
    "print(cl_090720.shape, cr_090720.shape, dfp_090720.shape)\n",
    "print(cl_100720.shape, cr_100720.shape, dfp_100720.shape)\n",
    "print(cl_110720.shape, cr_110720.shape, dfp_110720.shape)\n",
    "print(cl_120720.shape, cr_120720.shape, dfp_120720.shape)\n",
    "print(cl_130720.shape, cr_130720.shape, dfp_130720.shape)\n",
    "print(cl_140720.shape, cr_140720.shape, dfp_140720.shape)\n",
    "print(cl_150720.shape, cr_150720.shape, dfp_150720.shape)\n",
    "print(cl_160720.shape, cr_160720.shape, dfp_160720.shape)\n",
    "print(cl_170720.shape, cr_170720.shape, dfp_170720.shape)\n",
    "print(cl_180720.shape, cr_180720.shape, dfp_180720.shape)\n",
    "print(cl_190720.shape, cr_190720.shape, dfp_190720.shape)\n",
    "print(cl_200720.shape, cr_200720.shape, dfp_200720.shape)\n",
    "print(cl_210720.shape, cr_210720.shape, dfp_210720.shape)\n",
    "print(cl_220720.shape, cr_220720.shape, dfp_220720.shape)\n",
    "print(cl_230720.shape, cr_230720.shape, dfp_230720.shape)\n",
    "print(cl_240720.shape, cr_240720.shape, dfp_240720.shape)\n",
    "print(cl_250720.shape, cr_250720.shape, dfp_250720.shape)\n",
    "print(cl_260720.shape, cr_260720.shape, dfp_260720.shape)\n",
    "print(cl_270720.shape, cr_270720.shape, dfp_270720.shape)\n",
    "print(cl_280720.shape, cr_280720.shape, dfp_280720.shape)\n",
    "print(cl_290720.shape, cr_290720.shape, dfp_290720.shape)\n",
    "print(cl_300720.shape, cr_300720.shape, dfp_300720.shape)\n",
    "print(cl_310720.shape, cr_310720.shape, dfp_310720.shape)\n",
    "\n",
    "print(cl_total.shape, cr_total.shape)"
   ]
  },
  {
   "cell_type": "markdown",
   "metadata": {},
   "source": [
    "*liberamos memoria de tablas intermedias CR y CL*"
   ]
  },
  {
   "cell_type": "code",
   "execution_count": 17,
   "metadata": {},
   "outputs": [],
   "source": [
    "cr_070720 = pd.DataFrame(); cr_080720 = pd.DataFrame(); cr_090720 = pd.DataFrame(); cr_100720 = pd.DataFrame()\n",
    "cr_110720 = pd.DataFrame(); cr_120720 = pd.DataFrame(); cr_130720 = pd.DataFrame(); cr_140720 = pd.DataFrame()\n",
    "cr_150720 = pd.DataFrame(); cr_160720 = pd.DataFrame(); cr_170720 = pd.DataFrame(); cr_180720 = pd.DataFrame()\n",
    "cr_190720 = pd.DataFrame(); cr_200720 = pd.DataFrame(); cr_210720 = pd.DataFrame(); cr_220720 = pd.DataFrame()\n",
    "cr_230720 = pd.DataFrame(); cr_240720 = pd.DataFrame(); cr_250720 = pd.DataFrame(); cr_260720 = pd.DataFrame()\n",
    "cr_270720 = pd.DataFrame(); cr_280720 = pd.DataFrame(); cr_290720 = pd.DataFrame(); cr_300720 = pd.DataFrame();\n",
    "cr_310720 = pd.DataFrame()\n",
    "\n",
    "cl_070720 = pd.DataFrame(); cl_080720 = pd.DataFrame(); cl_090720 = pd.DataFrame(); cl_100720 = pd.DataFrame()\n",
    "cl_110720 = pd.DataFrame(); cl_120720 = pd.DataFrame(); cl_130720 = pd.DataFrame(); cl_140720 = pd.DataFrame()\n",
    "cl_150720 = pd.DataFrame(); cl_160720 = pd.DataFrame(); cl_170720 = pd.DataFrame(); cl_180720 = pd.DataFrame()\n",
    "cl_190720 = pd.DataFrame(); cl_200720 = pd.DataFrame(); cl_210720 = pd.DataFrame(); cl_220720 = pd.DataFrame()\n",
    "cl_230720 = pd.DataFrame(); cl_240720 = pd.DataFrame(); cl_250720 = pd.DataFrame(); cl_260720 = pd.DataFrame()\n",
    "cl_270720 = pd.DataFrame(); cl_280720 = pd.DataFrame(); cl_290720 = pd.DataFrame(); cl_300720 = pd.DataFrame();\n",
    "cl_310720 = pd.DataFrame()"
   ]
  },
  {
   "cell_type": "markdown",
   "metadata": {},
   "source": [
    "### Agrupación dataframes y depurado noticias (preprocesado datos)\n",
    "\n",
    "- Agrupamos las tablas de noticias, lecturas y datos de puntuación para generar dataframe único con tantas filas como noticias bajo gestión y 90.010 columnas relativas a los datos de noticias (periódico, titulo, texto...), así como los datos de noticia leida (si/no) y su puntuación de 1 a 5 relativa a los 45.000 suscriptores\n",
    "- Seguidamente procedemos a la eliminación de noticias duplicadas, ya que es práctica habitual en los distintos periódicos mantener una noticia más de un día."
   ]
  },
  {
   "cell_type": "code",
   "execution_count": 18,
   "metadata": {},
   "outputs": [
    {
     "name": "stdout",
     "output_type": "stream",
     "text": [
      "(21274, 10)\n",
      "(21274, 45001)\n",
      "(21274, 45001)\n"
     ]
    }
   ],
   "source": [
    "print(dfp_total.shape)\n",
    "print(cl_total.shape)\n",
    "print(cr_total.shape)"
   ]
  },
  {
   "cell_type": "code",
   "execution_count": 19,
   "metadata": {},
   "outputs": [],
   "source": [
    "df_agrupado = pd.merge(dfp_total,   cl_total, on='new_id')\n",
    "df_agrupado = pd.merge(df_agrupado, cr_total, on='new_id') "
   ]
  },
  {
   "cell_type": "code",
   "execution_count": 20,
   "metadata": {},
   "outputs": [
    {
     "data": {
      "text/plain": [
       "(21274, 90010)"
      ]
     },
     "execution_count": 20,
     "metadata": {},
     "output_type": "execute_result"
    }
   ],
   "source": [
    "# Control de la correcta agrupación de datos\n",
    "df_agrupado.shape"
   ]
  },
  {
   "cell_type": "code",
   "execution_count": 21,
   "metadata": {},
   "outputs": [],
   "source": [
    "# Eliminamos noticias que aparecen más de una vez ya que hay periódicos que repiten noticias varios días. \n",
    "# creamos df contando ids>1 agrupando por titulares\n",
    "eliminar_duplicados = pd.DataFrame(df_agrupado.groupby(\"Título\")[\"new_id\"].count()) \n",
    "# llevamos el índice a columna para cruce posterior\n",
    "eliminar_duplicados = eliminar_duplicados.reset_index(level=None, drop=False, inplace=False, col_level=0, col_fill='') \n",
    "# nos quedamos con titulares duplicados\n",
    "eliminar_duplicados = eliminar_duplicados[eliminar_duplicados['new_id']!=1] "
   ]
  },
  {
   "cell_type": "code",
   "execution_count": 22,
   "metadata": {},
   "outputs": [],
   "source": [
    "# liberamos memoria en el proceso\n",
    "dfp_total= pd.DataFrame()\n",
    "cl_total = pd.DataFrame()\n",
    "cr_total = pd.DataFrame()"
   ]
  },
  {
   "cell_type": "code",
   "execution_count": 23,
   "metadata": {},
   "outputs": [],
   "source": [
    "# Eliminamos todas las noticias repetidas, pero debemos realmente de quedarnos con una noticia\n",
    "# Se crea un marcador en el df.\n",
    "eliminar_duplicados['marker'] = 1  \n",
    "# se unen con left join la tabla principal y la de titulares duplicados\n",
    "df_agrupado2 = pd.merge(df_agrupado, eliminar_duplicados, on=['Título'], how='left') \n",
    "# Se crea df únicamente con filas con marcador vacío, es decir que no han cruzado con la tabla que indica si la noticia está o no duplicada\n",
    "df_agrupado3 = df_agrupado2[pd.isnull(df_agrupado2['marker'])][df_agrupado2.columns] \n",
    "# liberamos memoria\n",
    "df_agrupado2   = pd.DataFrame()\n",
    "df_agrupado_no_duplicados  = df_agrupado3.drop(['new_id_y', 'marker'], axis=1)\n",
    "# liberamos memoria\n",
    "df_agrupado3   = pd.DataFrame()"
   ]
  },
  {
   "cell_type": "code",
   "execution_count": 24,
   "metadata": {},
   "outputs": [],
   "source": [
    "# Inner para quedarnos con los que cruzan, es decir,  noticias que sabemos están repetidas\n",
    "df_agrupado_duplicados = pd.merge(df_agrupado, eliminar_duplicados, on=['Título'], how='inner').drop(['new_id_y', 'marker'], axis=1)\n",
    "# liberamos memoria\n",
    "df_agrupado = pd.DataFrame()"
   ]
  },
  {
   "cell_type": "code",
   "execution_count": 25,
   "metadata": {},
   "outputs": [],
   "source": [
    "# Paso intermedio para eliminar el título en noticias duplicadas para posteriormente quedarnos unicamente con una\n",
    "df_agrupado_duplicados.loc[df_agrupado_duplicados.duplicated(['Título']), 'Título'] = ''\n",
    "# Generamos nuevo dataset solo con noticias con título, para eliminar los duplicados\n",
    "df_agrupado_duplicados2 = df_agrupado_duplicados[df_agrupado_duplicados['Título']!='']\n",
    "# liberamos memoria\n",
    "df_agrupado_duplicados  = pd.DataFrame()"
   ]
  },
  {
   "cell_type": "code",
   "execution_count": 26,
   "metadata": {},
   "outputs": [],
   "source": [
    "# Noticias sin duplicados + noticias que tenían duplicados quedándonos con una única noticia = df_depurado\n",
    "df_depurado = pd.concat([df_agrupado_duplicados2, df_agrupado_no_duplicados], axis=0)\n",
    "# liberamos memoria\n",
    "df_agrupado_no_duplicados = pd.DataFrame(); df_agrupado_duplicados2 = pd.DataFrame()"
   ]
  },
  {
   "cell_type": "code",
   "execution_count": 27,
   "metadata": {},
   "outputs": [],
   "source": [
    "# consultamos noticias sin titular para eliminarlas\n",
    "y = df_depurado[df_depurado.Título.isnull()] \n",
    "# consultamos noticias sin contenido para al menos añadirle el título como texto\n",
    "x = df_depurado[df_depurado.Texto.isnull()] "
   ]
  },
  {
   "cell_type": "code",
   "execution_count": 28,
   "metadata": {},
   "outputs": [],
   "source": [
    "# Nos quedamos con noticias que tienen Título\n",
    "df = pd.DataFrame(df_depurado[df_depurado['Título'].notnull()])\n",
    "# Para las noticias sin contenido, le incluimos el título como texto\n",
    "df['Texto'] = df['Texto'].fillna(value = df['Título'])\n",
    "# liberamos memoria\n",
    "df_depurado = pd.DataFrame()"
   ]
  },
  {
   "cell_type": "code",
   "execution_count": 29,
   "metadata": {},
   "outputs": [
    {
     "data": {
      "text/plain": [
       "new_id_x          0\n",
       "Web               0\n",
       "Título            0\n",
       "Autor          1394\n",
       "Cabecera          0\n",
       "Comentarios    7505\n",
       "Texto             0\n",
       "Página            0\n",
       "URL              18\n",
       "Fecha           681\n",
       "dtype: int64"
      ]
     },
     "execution_count": 29,
     "metadata": {},
     "output_type": "execute_result"
    }
   ],
   "source": [
    "# Analizamos campos con valores nulos para su análisis\n",
    "df_relevant_columns = df.filter(['new_id_x', 'Web', 'Título', 'Autor', 'Cabecera', 'Comentarios',\n",
    "       'Texto', 'Página', 'URL', 'Fecha'], axis=1)\n",
    "\n",
    "df_relevant_columns.isnull().sum()"
   ]
  },
  {
   "cell_type": "code",
   "execution_count": 30,
   "metadata": {},
   "outputs": [],
   "source": [
    "# Para las noticias sin Autor, le incluimos el periódico como autor.\n",
    "df['Autor'] = df['Autor'].fillna(value = df['Web'])"
   ]
  },
  {
   "cell_type": "code",
   "execution_count": 31,
   "metadata": {},
   "outputs": [
    {
     "data": {
      "image/png": "[encoded data removed]",
      "text/plain": [
       "<Figure size 3600x216 with 1 Axes>"
      ]
     },
     "metadata": {
      "needs_background": "light"
     },
     "output_type": "display_data"
    }
   ],
   "source": [
    "# Generamos gráfico para visualizar el número de noticas por periódico\n",
    "df_plot_web = pd.DataFrame(df['Web'].value_counts())\n",
    "names = df_plot_web.index\n",
    "values = df_plot_web['Web']\n",
    "plt.figure(figsize=(50, 3))\n",
    "plt.subplot(131)\n",
    "plt.bar(names, values)\n",
    "plt.show()"
   ]
  },
  {
   "cell_type": "code",
   "execution_count": 32,
   "metadata": {},
   "outputs": [],
   "source": [
    "# Renombramos columna new_id\n",
    "df = df.rename(columns={\"new_id_x\": 'new_id'})\n",
    "# Insertamos contador\n",
    "df.insert(loc =1, column = 'contador', value = 1)"
   ]
  },
  {
   "cell_type": "code",
   "execution_count": 33,
   "metadata": {},
   "outputs": [
    {
     "name": "stdout",
     "output_type": "stream",
     "text": [
      "(12074, 90011)\n"
     ]
    }
   ],
   "source": [
    "# Número de noticias únicas tras eliminación de duplicados y depurado de datos\n",
    "print(df.shape)"
   ]
  },
  {
   "cell_type": "markdown",
   "metadata": {},
   "source": [
    "### Generación datos para cuadro de mando\n",
    "\n",
    "- Creamos las tablas main_csv y base_clientes_total para trabajar en R y crear un cuadro de mando dinámico en Shinyapps"
   ]
  },
  {
   "cell_type": "code",
   "execution_count": 34,
   "metadata": {},
   "outputs": [],
   "source": [
    "# Separamos df en cuerpo principal, datos lecturas y datos rating para aplicar cálculos\n",
    "main = df.iloc[:, 0:11]\n",
    "cl   = df.iloc[:, 11:45011]\n",
    "cr   = df.iloc[:, 45011:90011]"
   ]
  },
  {
   "cell_type": "code",
   "execution_count": 35,
   "metadata": {},
   "outputs": [],
   "source": [
    "# Creamos los campos average_rating y numero_lecturas\n",
    "cr[\"average_rating\"]  = cr.mean(axis=1)\n",
    "cl[\"numero_lecturas\"] = cl.sum(axis=1)"
   ]
  },
  {
   "cell_type": "code",
   "execution_count": 36,
   "metadata": {},
   "outputs": [],
   "source": [
    "# Creamos el campo tipo de suscripcion\n",
    "tipo_suscripcion = main['new_id'].tolist() # Creamos lista con los new_id para extraerles 3 posiciones y tener la tipología\n",
    "\n",
    "# Bucle para extraer las 3 primeras posiciones de cada elemento de la lista\n",
    "for i,x in enumerate (tipo_suscripcion):\n",
    "    tipo_suscripcion[i] = tipo_suscripcion[i][0:3]"
   ]
  },
  {
   "cell_type": "code",
   "execution_count": 37,
   "metadata": {},
   "outputs": [],
   "source": [
    "# Insertamos en la tabla principal de noticias el tipo suscripción, el rating medio y número de lecturas\n",
    "main.insert(loc=5, column='tipo_suscripcion', value=tipo_suscripcion, allow_duplicates=False) \n",
    "main['rating_medio'] = cr['average_rating']     # se hace directamente porque los índices coinciden\n",
    "main['total_lecturas'] = cl['numero_lecturas']  # se hace directamente porque los índices coinciden"
   ]
  },
  {
   "cell_type": "code",
   "execution_count": 38,
   "metadata": {},
   "outputs": [],
   "source": [
    "# Exportamos dataframe a csv para trabajar en R y generar información para el cuadro de mando en Shinyapps\n",
    "main_csv = main[['new_id', 'contador', 'Web', 'Título', 'Autor', 'tipo_suscripcion',\n",
    "       'Cabecera', 'Fecha', 'rating_medio', 'total_lecturas']].copy()\n",
    "main_csv.to_csv(r'C:\\Users\\david\\Documents\\6_Master\\3_Master\\000_TFM\\1_Minerva\\datos_exportados\\main.csv',sep=';',encoding='utf-8-sig', index = True)"
   ]
  },
  {
   "cell_type": "code",
   "execution_count": 39,
   "metadata": {},
   "outputs": [],
   "source": [
    "# Generamos tabla de clientes con las noticias leidas, puntuadas y puntuaciones de cada cliente por periódico\n",
    "webs = df['Web'].drop_duplicates().tolist()\n",
    "li = []\n",
    "for i in webs:\n",
    "    df_webs = df.loc[df['Web'] == i]\n",
    "    main_webs = df_webs.iloc[:, 0:11]\n",
    "    cl_webs   = df_webs.iloc[:, 11:45011]\n",
    "    cr_webs   = df_webs.iloc[:, 45011:90011]\n",
    "    cr_T_webs = cr_webs.T                                      # Trasponemos los datasets para operar con los clientes\n",
    "    cl_T_webs = cl_webs.T\n",
    "    cr_T_webs[\"noticias_puntuadas\"]  = cr_T_webs.count(axis=1) # Creamos los campos: total noticias puntuadas, puntuación media y noticias leidas\n",
    "    cr_T_webs[\"puntuacion_media\"]    = cr_T_webs.mean(axis=1)\n",
    "    cl_T_webs[\"noticias_leidas\"]     = cl_T_webs.sum(axis=1)\n",
    "\n",
    "    x = pd.DataFrame(cl_T_webs['noticias_leidas']);    x.insert(0, 'Customer_ID', range(1, 1 + len(x)))\n",
    "    y = pd.DataFrame(cr_T_webs['noticias_puntuadas']); y.insert(0, 'Customer_ID', range(1, 1 + len(y)))\n",
    "    z = pd.DataFrame(cr_T_webs['puntuacion_media']);   z.insert(0, 'Customer_ID', range(1, 1 + len(z)))\n",
    "\n",
    "    x = pd.merge(x, y, on='Customer_ID')                       # Unimos las tablas\n",
    "    x = pd.merge(x, z, on='Customer_ID')\n",
    "    x[\"Web\"] = i\n",
    "    li.append(x)\n",
    "    \n",
    "base_clientes= pd.concat(li, axis=0, ignore_index=True)    "
   ]
  },
  {
   "cell_type": "code",
   "execution_count": 40,
   "metadata": {},
   "outputs": [],
   "source": [
    "# Generamos tabla de clientes con las noticias leidas, puntuadas y puntuaciones de cada cliente a nivel agregado\n",
    "cr_T = cr.T\n",
    "cl_T = cl.T\n",
    "cr_T[\"noticias_puntuadas\"]  = cr_T.count(axis=1)\n",
    "cr_T[\"puntuacion_media\"]    = cr_T.mean(axis=1)\n",
    "cl_T[\"noticias_leidas\"]     = cl_T.sum(axis=1)\n",
    "cr_T = cr_T.drop(['average_rating'])                   # eliminamos las filas agregadas de lecturas y ratint por noticia creadas anteriormente para quedarnos exclusivamente con los 45.000 clientes \n",
    "cl_T = cl_T.drop(['numero_lecturas'])\n",
    "\n",
    "x = pd.DataFrame(cl_T['noticias_leidas']);    x.insert(0, 'Customer_ID', range(1, 1 + len(x)))\n",
    "y = pd.DataFrame(cr_T['noticias_puntuadas']); y.insert(0, 'Customer_ID', range(1, 1 + len(y)))\n",
    "z = pd.DataFrame(cr_T['puntuacion_media']);   z.insert(0, 'Customer_ID', range(1, 1 + len(z)))\n",
    "\n",
    "x = pd.merge(x, y, on='Customer_ID')\n",
    "x = pd.merge(x, z, on='Customer_ID')\n",
    "x['Web'] = 'Total'\n",
    "\n",
    "    \n",
    "base_clientes_total= pd.concat([base_clientes, x], axis=0, ignore_index=True)    "
   ]
  },
  {
   "cell_type": "code",
   "execution_count": 41,
   "metadata": {},
   "outputs": [],
   "source": [
    "# Le incorporamos la información de las suscripciones \n",
    "base_clientes_total = pd.merge(base_clientes_total,suscripciones_df[['Customer_ID', 'suscripcion']], on='Customer_ID',how='left')"
   ]
  },
  {
   "cell_type": "code",
   "execution_count": 42,
   "metadata": {},
   "outputs": [],
   "source": [
    "base_clientes_total.to_csv(r'C:\\Users\\david\\Documents\\6_Master\\3_Master\\000_TFM\\1_Minerva\\datos_exportados\\base_clientes.csv',sep=';',encoding='utf-8-sig', index = True)"
   ]
  },
  {
   "cell_type": "markdown",
   "metadata": {},
   "source": [
    "### Exportación de tabla definitiva\n",
    "\n",
    "- Finalizado el proceso, podemos exportar la tabla definitiva. Dado el tamaño que alzanza y la dificultad para su posterior importación lo dejamos desactivado. "
   ]
  },
  {
   "cell_type": "code",
   "execution_count": 44,
   "metadata": {},
   "outputs": [],
   "source": [
    "#df.to_csv(r'C:\\Users\\david\\Documents\\6_Master\\3_Master\\000_TFM\\1_Minerva\\datos_exportados\\df_310720.csv',sep=';',encoding='utf-8-sig', index = True)"
   ]
  }
 ],
 "metadata": {
  "kernelspec": {
   "display_name": "Python 3",
   "language": "python",
   "name": "python3"
  },
  "language_info": {
   "codemirror_mode": {
    "name": "ipython",
    "version": 3
   },
   "file_extension": ".py",
   "mimetype": "text/x-python",
   "name": "python",
   "nbconvert_exporter": "python",
   "pygments_lexer": "ipython3",
   "version": "3.7.6"
  }
 },
 "nbformat": 4,
 "nbformat_minor": 4
}
