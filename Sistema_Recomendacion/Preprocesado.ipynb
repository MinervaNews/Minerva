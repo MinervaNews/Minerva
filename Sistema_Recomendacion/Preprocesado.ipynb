{
 "cells": [
  {
   "cell_type": "code",
   "execution_count": 2,
   "metadata": {
    "button": false,
    "colab": {},
    "colab_type": "code",
    "id": "Ex79bxC7A3ga",
    "new_sheet": false,
    "run_control": {
     "read_only": false
    }
   },
   "outputs": [],
   "source": [
    "import pandas as pd\n",
    "from math import sqrt\n",
    "import math\n",
    "import numpy as np\n",
    "import matplotlib.pyplot as plt\n",
    "%matplotlib inline"
   ]
  },
  {
   "cell_type": "markdown",
   "metadata": {
    "button": false,
    "colab_type": "text",
    "id": "l-kL1JlsA3gY",
    "new_sheet": false,
    "run_control": {
     "read_only": false
    }
   },
   "source": [
    "<hr>\n",
    "\n",
    "<a id=\"ref2\"></a>\n",
    "# Preprocesado\n"
   ]
  },
  {
   "cell_type": "code",
   "execution_count": 2,
   "metadata": {},
   "outputs": [],
   "source": [
    "import pandas as pd\n",
    "from math import sqrt\n",
    "import numpy as np\n",
    "import matplotlib.pyplot as plt\n",
    "%matplotlib inline"
   ]
  },
  {
   "cell_type": "markdown",
   "metadata": {
    "button": false,
    "colab_type": "text",
    "id": "ZqmMjay3A3gf",
    "new_sheet": false,
    "run_control": {
     "read_only": false
    }
   },
   "source": [
    "Lectura de Dataframe con todos los datos, generado por el notebook Data_agregation_and_management :"
   ]
  },
  {
   "cell_type": "code",
   "execution_count": 15,
   "metadata": {},
   "outputs": [],
   "source": [
    "df = pd.read_csv(r'C:\\Users\\maria\\Desktop\\MasterBD\\TFM\\datos\\df.csv',encoding='utf-8-sig', sep=';')"
   ]
  },
  {
   "cell_type": "markdown",
   "metadata": {},
   "source": [
    "Quitamos columna unnamed"
   ]
  },
  {
   "cell_type": "code",
   "execution_count": 3,
   "metadata": {},
   "outputs": [],
   "source": [
    "df.drop(df.columns[df.columns.str.contains('unnamed',case = False)],axis = 1, inplace = True)\n"
   ]
  },
  {
   "cell_type": "code",
   "execution_count": 4,
   "metadata": {},
   "outputs": [
    {
     "data": {
      "text/html": [
       "<div>\n",
       "<style scoped>\n",
       "    .dataframe tbody tr th:only-of-type {\n",
       "        vertical-align: middle;\n",
       "    }\n",
       "\n",
       "    .dataframe tbody tr th {\n",
       "        vertical-align: top;\n",
       "    }\n",
       "\n",
       "    .dataframe thead th {\n",
       "        text-align: right;\n",
       "    }\n",
       "</style>\n",
       "<table border=\"1\" class=\"dataframe\">\n",
       "  <thead>\n",
       "    <tr style=\"text-align: right;\">\n",
       "      <th></th>\n",
       "      <th>new_id</th>\n",
       "      <th>contador</th>\n",
       "      <th>Web</th>\n",
       "      <th>Título</th>\n",
       "      <th>Autor</th>\n",
       "      <th>Cabecera</th>\n",
       "      <th>Comentarios</th>\n",
       "      <th>Texto</th>\n",
       "      <th>Página</th>\n",
       "      <th>URL</th>\n",
       "      <th>...</th>\n",
       "      <th>cr_44990</th>\n",
       "      <th>cr_44991</th>\n",
       "      <th>cr_44992</th>\n",
       "      <th>cr_44993</th>\n",
       "      <th>cr_44994</th>\n",
       "      <th>cr_44995</th>\n",
       "      <th>cr_44996</th>\n",
       "      <th>cr_44997</th>\n",
       "      <th>cr_44998</th>\n",
       "      <th>cr_44999</th>\n",
       "    </tr>\n",
       "  </thead>\n",
       "  <tbody>\n",
       "    <tr>\n",
       "      <th>0</th>\n",
       "      <td>gen_2_230720</td>\n",
       "      <td>1</td>\n",
       "      <td>El Confidencial</td>\n",
       "      <td>Detienen al director de una residencia por dro...</td>\n",
       "      <td>Europa Press</td>\n",
       "      <td>0</td>\n",
       "      <td>0.0</td>\n",
       "      <td>23/07/2020 10:22La Guardia Civil ha detenido a...</td>\n",
       "      <td>1</td>\n",
       "      <td>https://www.elconfidencial.com/espana/2020-07-...</td>\n",
       "      <td>...</td>\n",
       "      <td>NaN</td>\n",
       "      <td>NaN</td>\n",
       "      <td>3.0</td>\n",
       "      <td>5.0</td>\n",
       "      <td>NaN</td>\n",
       "      <td>NaN</td>\n",
       "      <td>NaN</td>\n",
       "      <td>NaN</td>\n",
       "      <td>NaN</td>\n",
       "      <td>NaN</td>\n",
       "    </tr>\n",
       "    <tr>\n",
       "      <th>1</th>\n",
       "      <td>gen_3_230720</td>\n",
       "      <td>1</td>\n",
       "      <td>El Confidencial</td>\n",
       "      <td>El Supremo revoca los permisos de Forcadell y ...</td>\n",
       "      <td>Pablo Gabilondo</td>\n",
       "      <td>0</td>\n",
       "      <td>4.0</td>\n",
       "      <td>23/07/2020 09:30 -                            ...</td>\n",
       "      <td>1</td>\n",
       "      <td>https://www.elconfidencial.com/espana/2020-07-...</td>\n",
       "      <td>...</td>\n",
       "      <td>NaN</td>\n",
       "      <td>NaN</td>\n",
       "      <td>NaN</td>\n",
       "      <td>NaN</td>\n",
       "      <td>NaN</td>\n",
       "      <td>NaN</td>\n",
       "      <td>NaN</td>\n",
       "      <td>NaN</td>\n",
       "      <td>NaN</td>\n",
       "      <td>NaN</td>\n",
       "    </tr>\n",
       "    <tr>\n",
       "      <th>2</th>\n",
       "      <td>gen_4_230720</td>\n",
       "      <td>1</td>\n",
       "      <td>El Confidencial</td>\n",
       "      <td>El 'efecto mariposa' del coronavirus: solo los...</td>\n",
       "      <td>Alberto Pérez Giménez</td>\n",
       "      <td>0</td>\n",
       "      <td>14.0</td>\n",
       "      <td>23/07/2020 05:00Este jueves, desde las 10 y me...</td>\n",
       "      <td>1</td>\n",
       "      <td>https://www.elconfidencial.com/espana/2020-07-...</td>\n",
       "      <td>...</td>\n",
       "      <td>NaN</td>\n",
       "      <td>NaN</td>\n",
       "      <td>NaN</td>\n",
       "      <td>NaN</td>\n",
       "      <td>5.0</td>\n",
       "      <td>NaN</td>\n",
       "      <td>NaN</td>\n",
       "      <td>NaN</td>\n",
       "      <td>NaN</td>\n",
       "      <td>NaN</td>\n",
       "    </tr>\n",
       "    <tr>\n",
       "      <th>3</th>\n",
       "      <td>gen_5_230720</td>\n",
       "      <td>1</td>\n",
       "      <td>El Confidencial</td>\n",
       "      <td>Andalucía y Galicia se rebelan contra el fondo...</td>\n",
       "      <td>Víctor Romero. Valencia</td>\n",
       "      <td>0</td>\n",
       "      <td>16.0</td>\n",
       "      <td>23/07/2020 05:00Adelantado en Madrid y Cataluñ...</td>\n",
       "      <td>1</td>\n",
       "      <td>https://www.elconfidencial.com/espana/2020-07-...</td>\n",
       "      <td>...</td>\n",
       "      <td>NaN</td>\n",
       "      <td>NaN</td>\n",
       "      <td>NaN</td>\n",
       "      <td>2.0</td>\n",
       "      <td>NaN</td>\n",
       "      <td>NaN</td>\n",
       "      <td>NaN</td>\n",
       "      <td>NaN</td>\n",
       "      <td>NaN</td>\n",
       "      <td>NaN</td>\n",
       "    </tr>\n",
       "    <tr>\n",
       "      <th>4</th>\n",
       "      <td>gen_6_230720</td>\n",
       "      <td>1</td>\n",
       "      <td>El Confidencial</td>\n",
       "      <td>Los aliados del Gobierno dan un aviso para los...</td>\n",
       "      <td>Fernando Garea</td>\n",
       "      <td>0</td>\n",
       "      <td>14.0</td>\n",
       "      <td>23/07/2020 05:00Adelantado en Cuando aún caía ...</td>\n",
       "      <td>1</td>\n",
       "      <td>https://www.elconfidencial.com/espana/2020-07-...</td>\n",
       "      <td>...</td>\n",
       "      <td>NaN</td>\n",
       "      <td>NaN</td>\n",
       "      <td>NaN</td>\n",
       "      <td>NaN</td>\n",
       "      <td>NaN</td>\n",
       "      <td>NaN</td>\n",
       "      <td>NaN</td>\n",
       "      <td>NaN</td>\n",
       "      <td>NaN</td>\n",
       "      <td>NaN</td>\n",
       "    </tr>\n",
       "  </tbody>\n",
       "</table>\n",
       "<p>5 rows × 90011 columns</p>\n",
       "</div>"
      ],
      "text/plain": [
       "         new_id  contador              Web  \\\n",
       "0  gen_2_230720         1  El Confidencial   \n",
       "1  gen_3_230720         1  El Confidencial   \n",
       "2  gen_4_230720         1  El Confidencial   \n",
       "3  gen_5_230720         1  El Confidencial   \n",
       "4  gen_6_230720         1  El Confidencial   \n",
       "\n",
       "                                              Título                    Autor  \\\n",
       "0  Detienen al director de una residencia por dro...             Europa Press   \n",
       "1  El Supremo revoca los permisos de Forcadell y ...          Pablo Gabilondo   \n",
       "2  El 'efecto mariposa' del coronavirus: solo los...    Alberto Pérez Giménez   \n",
       "3  Andalucía y Galicia se rebelan contra el fondo...  Víctor Romero. Valencia   \n",
       "4  Los aliados del Gobierno dan un aviso para los...           Fernando Garea   \n",
       "\n",
       "   Cabecera  Comentarios                                              Texto  \\\n",
       "0         0          0.0  23/07/2020 10:22La Guardia Civil ha detenido a...   \n",
       "1         0          4.0  23/07/2020 09:30 -                            ...   \n",
       "2         0         14.0  23/07/2020 05:00Este jueves, desde las 10 y me...   \n",
       "3         0         16.0  23/07/2020 05:00Adelantado en Madrid y Cataluñ...   \n",
       "4         0         14.0  23/07/2020 05:00Adelantado en Cuando aún caía ...   \n",
       "\n",
       "   Página                                                URL  ... cr_44990  \\\n",
       "0       1  https://www.elconfidencial.com/espana/2020-07-...  ...      NaN   \n",
       "1       1  https://www.elconfidencial.com/espana/2020-07-...  ...      NaN   \n",
       "2       1  https://www.elconfidencial.com/espana/2020-07-...  ...      NaN   \n",
       "3       1  https://www.elconfidencial.com/espana/2020-07-...  ...      NaN   \n",
       "4       1  https://www.elconfidencial.com/espana/2020-07-...  ...      NaN   \n",
       "\n",
       "   cr_44991  cr_44992  cr_44993  cr_44994  cr_44995  cr_44996  cr_44997  \\\n",
       "0       NaN       3.0       5.0       NaN       NaN       NaN       NaN   \n",
       "1       NaN       NaN       NaN       NaN       NaN       NaN       NaN   \n",
       "2       NaN       NaN       NaN       5.0       NaN       NaN       NaN   \n",
       "3       NaN       NaN       2.0       NaN       NaN       NaN       NaN   \n",
       "4       NaN       NaN       NaN       NaN       NaN       NaN       NaN   \n",
       "\n",
       "   cr_44998  cr_44999  \n",
       "0       NaN       NaN  \n",
       "1       NaN       NaN  \n",
       "2       NaN       NaN  \n",
       "3       NaN       NaN  \n",
       "4       NaN       NaN  \n",
       "\n",
       "[5 rows x 90011 columns]"
      ]
     },
     "execution_count": 4,
     "metadata": {},
     "output_type": "execute_result"
    }
   ],
   "source": [
    "df.head()"
   ]
  },
  {
   "cell_type": "markdown",
   "metadata": {},
   "source": [
    "### Dataframe news_df"
   ]
  },
  {
   "cell_type": "code",
   "execution_count": 16,
   "metadata": {},
   "outputs": [],
   "source": [
    "news_df =  df.filter(['new_id','Título'], axis=1)"
   ]
  },
  {
   "cell_type": "code",
   "execution_count": 18,
   "metadata": {},
   "outputs": [],
   "source": [
    "news_df.to_csv(r'C:\\Users\\maria\\Desktop\\MasterBD\\TFM\\datos\\news_df.csv',sep=';',encoding='utf-8-sig', index = True)"
   ]
  },
  {
   "cell_type": "code",
   "execution_count": 17,
   "metadata": {},
   "outputs": [
    {
     "data": {
      "text/html": [
       "<div>\n",
       "<style scoped>\n",
       "    .dataframe tbody tr th:only-of-type {\n",
       "        vertical-align: middle;\n",
       "    }\n",
       "\n",
       "    .dataframe tbody tr th {\n",
       "        vertical-align: top;\n",
       "    }\n",
       "\n",
       "    .dataframe thead th {\n",
       "        text-align: right;\n",
       "    }\n",
       "</style>\n",
       "<table border=\"1\" class=\"dataframe\">\n",
       "  <thead>\n",
       "    <tr style=\"text-align: right;\">\n",
       "      <th></th>\n",
       "      <th>new_id</th>\n",
       "      <th>Título</th>\n",
       "    </tr>\n",
       "  </thead>\n",
       "  <tbody>\n",
       "    <tr>\n",
       "      <th>0</th>\n",
       "      <td>gen_2_230720</td>\n",
       "      <td>Detienen al director de una residencia por dro...</td>\n",
       "    </tr>\n",
       "    <tr>\n",
       "      <th>1</th>\n",
       "      <td>gen_3_230720</td>\n",
       "      <td>El Supremo revoca los permisos de Forcadell y ...</td>\n",
       "    </tr>\n",
       "    <tr>\n",
       "      <th>2</th>\n",
       "      <td>gen_4_230720</td>\n",
       "      <td>El 'efecto mariposa' del coronavirus: solo los...</td>\n",
       "    </tr>\n",
       "    <tr>\n",
       "      <th>3</th>\n",
       "      <td>gen_5_230720</td>\n",
       "      <td>Andalucía y Galicia se rebelan contra el fondo...</td>\n",
       "    </tr>\n",
       "    <tr>\n",
       "      <th>4</th>\n",
       "      <td>gen_6_230720</td>\n",
       "      <td>Los aliados del Gobierno dan un aviso para los...</td>\n",
       "    </tr>\n",
       "  </tbody>\n",
       "</table>\n",
       "</div>"
      ],
      "text/plain": [
       "         new_id                                             Título\n",
       "0  gen_2_230720  Detienen al director de una residencia por dro...\n",
       "1  gen_3_230720  El Supremo revoca los permisos de Forcadell y ...\n",
       "2  gen_4_230720  El 'efecto mariposa' del coronavirus: solo los...\n",
       "3  gen_5_230720  Andalucía y Galicia se rebelan contra el fondo...\n",
       "4  gen_6_230720  Los aliados del Gobierno dan un aviso para los..."
      ]
     },
     "execution_count": 17,
     "metadata": {},
     "output_type": "execute_result"
    }
   ],
   "source": [
    "news_df.head()"
   ]
  },
  {
   "cell_type": "code",
   "execution_count": null,
   "metadata": {},
   "outputs": [],
   "source": [
    "news_df.describe()"
   ]
  },
  {
   "cell_type": "markdown",
   "metadata": {},
   "source": [
    "### Dataframe ratings_df"
   ]
  },
  {
   "cell_type": "markdown",
   "metadata": {},
   "source": [
    "Columnas clientes lectura"
   ]
  },
  {
   "cell_type": "code",
   "execution_count": 14,
   "metadata": {},
   "outputs": [],
   "source": [
    "columnas_cl = []\n",
    "for col in df.columns:\n",
    "    if col.startswith('cl'):\n",
    "        columnas_cl.append(col)"
   ]
  },
  {
   "cell_type": "markdown",
   "metadata": {},
   "source": [
    "Rellenar valores nan de la columna lectura con 0."
   ]
  },
  {
   "cell_type": "code",
   "execution_count": 23,
   "metadata": {},
   "outputs": [],
   "source": [
    "for i in columnas_cl:\n",
    "    df[i].fillna(0,inplace=True)"
   ]
  },
  {
   "cell_type": "code",
   "execution_count": 51,
   "metadata": {},
   "outputs": [],
   "source": [
    "#Lista que conformará la columna new_id\n",
    "newid_l = []\n",
    "# ... columna user_id\n",
    "user_l = []\n",
    "# ... columna rating\n",
    "rating_l =[]\n",
    "\n",
    "for i in range(0,45000): \n",
    "    \n",
    "    user = 'cl_'+ str(i)\n",
    "    rating = 'cr_'+ str(i)\n",
    "    c = 0 \n",
    "    for j in df[user]:\n",
    "        if j ==1:\n",
    "            newid_l.append(df.loc[c,'new_id'])\n",
    "            user_l.append(user)\n",
    "            rating_l.append(df.loc[c,rating])\n",
    "           \n",
    "            c = c+1\n",
    "        else: \n",
    "            c= c+1"
   ]
  },
  {
   "cell_type": "code",
   "execution_count": 52,
   "metadata": {},
   "outputs": [],
   "source": [
    "ratings_df = pd.DataFrame(list(zip(user_l, newid_l,rating_l)), \n",
    "               columns =['user_id', 'new_id','rating'])"
   ]
  },
  {
   "cell_type": "markdown",
   "metadata": {},
   "source": [
    "Se añade a ratings_df la columna suscr_new que contendrá una lista de las modalidades de suscripcion con las que se pueda acceder a la noticia."
   ]
  },
  {
   "cell_type": "markdown",
   "metadata": {},
   "source": [
    "Diccionario con las modalidades de suscripcion"
   ]
  },
  {
   "cell_type": "code",
   "execution_count": 11,
   "metadata": {},
   "outputs": [],
   "source": [
    "suscr ={'gen':['alpha','beta','gamma','delta','omega'],'dep':['beta','delta','omega'],'eco':['gamma','delta','omega']}"
   ]
  },
  {
   "cell_type": "code",
   "execution_count": null,
   "metadata": {},
   "outputs": [],
   "source": [
    "ratings_df=ratings_df[ratings_df['rating'].notna()]"
   ]
  },
  {
   "cell_type": "code",
   "execution_count": null,
   "metadata": {},
   "outputs": [],
   "source": [
    "ratings_df['suscr_new']= ratings_df.apply(lambda x: suscr[x['new_id'][0:3]],axis=1)"
   ]
  },
  {
   "cell_type": "markdown",
   "metadata": {},
   "source": [
    "Generar csv ratings_df"
   ]
  },
  {
   "cell_type": "code",
   "execution_count": null,
   "metadata": {},
   "outputs": [],
   "source": [
    "ratings_df.to_csv(r'C:\\Users\\maria\\Desktop\\MasterBD\\TFM\\datos\\ratings_dfS.csv',sep=';',encoding='utf-8-sig', index = True)"
   ]
  },
  {
   "cell_type": "markdown",
   "metadata": {},
   "source": [
    "### Dataframe newsWeb_df"
   ]
  },
  {
   "cell_type": "code",
   "execution_count": 5,
   "metadata": {},
   "outputs": [],
   "source": [
    "news_df = pd.read_csv(r'C:\\Users\\maria\\Desktop\\MasterBD\\TFM\\datos\\news_df.csv',encoding='utf-8-sig', sep=';')\n"
   ]
  },
  {
   "cell_type": "code",
   "execution_count": 3,
   "metadata": {},
   "outputs": [],
   "source": [
    "main_df = pd.read_csv(r'C:\\Users\\maria\\Desktop\\MasterBD\\TFM\\datos\\main.csv',encoding='utf-8-sig', sep=';')\n"
   ]
  },
  {
   "cell_type": "code",
   "execution_count": 7,
   "metadata": {},
   "outputs": [],
   "source": [
    "news = news_df.merge(main_df[['Web', 'new_id']], left_on='new_id', right_on='new_id', how='inner')"
   ]
  },
  {
   "cell_type": "code",
   "execution_count": 11,
   "metadata": {},
   "outputs": [
    {
     "data": {
      "text/html": [
       "<div>\n",
       "<style scoped>\n",
       "    .dataframe tbody tr th:only-of-type {\n",
       "        vertical-align: middle;\n",
       "    }\n",
       "\n",
       "    .dataframe tbody tr th {\n",
       "        vertical-align: top;\n",
       "    }\n",
       "\n",
       "    .dataframe thead th {\n",
       "        text-align: right;\n",
       "    }\n",
       "</style>\n",
       "<table border=\"1\" class=\"dataframe\">\n",
       "  <thead>\n",
       "    <tr style=\"text-align: right;\">\n",
       "      <th></th>\n",
       "      <th>new_id</th>\n",
       "      <th>Título</th>\n",
       "      <th>Web</th>\n",
       "    </tr>\n",
       "  </thead>\n",
       "  <tbody>\n",
       "    <tr>\n",
       "      <th>0</th>\n",
       "      <td>gen_2_230720</td>\n",
       "      <td>Detienen al director de una residencia por dro...</td>\n",
       "      <td>El Confidencial</td>\n",
       "    </tr>\n",
       "    <tr>\n",
       "      <th>1</th>\n",
       "      <td>gen_3_230720</td>\n",
       "      <td>El Supremo revoca los permisos de Forcadell y ...</td>\n",
       "      <td>El Confidencial</td>\n",
       "    </tr>\n",
       "    <tr>\n",
       "      <th>2</th>\n",
       "      <td>gen_4_230720</td>\n",
       "      <td>El 'efecto mariposa' del coronavirus: solo los...</td>\n",
       "      <td>El Confidencial</td>\n",
       "    </tr>\n",
       "    <tr>\n",
       "      <th>3</th>\n",
       "      <td>gen_5_230720</td>\n",
       "      <td>Andalucía y Galicia se rebelan contra el fondo...</td>\n",
       "      <td>El Confidencial</td>\n",
       "    </tr>\n",
       "    <tr>\n",
       "      <th>4</th>\n",
       "      <td>gen_6_230720</td>\n",
       "      <td>Los aliados del Gobierno dan un aviso para los...</td>\n",
       "      <td>El Confidencial</td>\n",
       "    </tr>\n",
       "    <tr>\n",
       "      <th>...</th>\n",
       "      <td>...</td>\n",
       "      <td>...</td>\n",
       "      <td>...</td>\n",
       "    </tr>\n",
       "    <tr>\n",
       "      <th>4637</th>\n",
       "      <td>eco_802_300720</td>\n",
       "      <td>Acciona recorta un 85,7% su beneficio por el C...</td>\n",
       "      <td>Expansión</td>\n",
       "    </tr>\n",
       "    <tr>\n",
       "      <th>4638</th>\n",
       "      <td>eco_803_300720</td>\n",
       "      <td>Samsung ganó un 7,33% más en el segundo trimes...</td>\n",
       "      <td>Expansión</td>\n",
       "    </tr>\n",
       "    <tr>\n",
       "      <th>4639</th>\n",
       "      <td>eco_805_300720</td>\n",
       "      <td>Aena abre la puerta a retrasar los crecimiento...</td>\n",
       "      <td>Expansión</td>\n",
       "    </tr>\n",
       "    <tr>\n",
       "      <th>4640</th>\n",
       "      <td>eco_806_300720</td>\n",
       "      <td>El Gobierno de Madrid da marcha atrás en dos d...</td>\n",
       "      <td>Expansión</td>\n",
       "    </tr>\n",
       "    <tr>\n",
       "      <th>4641</th>\n",
       "      <td>eco_807_300720</td>\n",
       "      <td>Los Mossos desalojan a decenas de jóvenes que ...</td>\n",
       "      <td>Expansión</td>\n",
       "    </tr>\n",
       "  </tbody>\n",
       "</table>\n",
       "<p>4642 rows × 3 columns</p>\n",
       "</div>"
      ],
      "text/plain": [
       "              new_id                                             Título  \\\n",
       "0       gen_2_230720  Detienen al director de una residencia por dro...   \n",
       "1       gen_3_230720  El Supremo revoca los permisos de Forcadell y ...   \n",
       "2       gen_4_230720  El 'efecto mariposa' del coronavirus: solo los...   \n",
       "3       gen_5_230720  Andalucía y Galicia se rebelan contra el fondo...   \n",
       "4       gen_6_230720  Los aliados del Gobierno dan un aviso para los...   \n",
       "...              ...                                                ...   \n",
       "4637  eco_802_300720  Acciona recorta un 85,7% su beneficio por el C...   \n",
       "4638  eco_803_300720  Samsung ganó un 7,33% más en el segundo trimes...   \n",
       "4639  eco_805_300720  Aena abre la puerta a retrasar los crecimiento...   \n",
       "4640  eco_806_300720  El Gobierno de Madrid da marcha atrás en dos d...   \n",
       "4641  eco_807_300720  Los Mossos desalojan a decenas de jóvenes que ...   \n",
       "\n",
       "                  Web  \n",
       "0     El Confidencial  \n",
       "1     El Confidencial  \n",
       "2     El Confidencial  \n",
       "3     El Confidencial  \n",
       "4     El Confidencial  \n",
       "...               ...  \n",
       "4637        Expansión  \n",
       "4638        Expansión  \n",
       "4639        Expansión  \n",
       "4640        Expansión  \n",
       "4641        Expansión  \n",
       "\n",
       "[4642 rows x 3 columns]"
      ]
     },
     "execution_count": 11,
     "metadata": {},
     "output_type": "execute_result"
    }
   ],
   "source": [
    "news"
   ]
  },
  {
   "cell_type": "code",
   "execution_count": 8,
   "metadata": {},
   "outputs": [],
   "source": [
    "news.drop(news.columns[news.columns.str.contains('unnamed',case = False)],axis = 1, inplace = True)"
   ]
  },
  {
   "cell_type": "code",
   "execution_count": 9,
   "metadata": {},
   "outputs": [
    {
     "data": {
      "text/plain": [
       "array(['El Confidencial', 'El Mundo', 'El País', 'ABC', 'El Economista',\n",
       "       'Marca', 'La Razón', 'Cinco Días', 'As', 'Expansión'], dtype=object)"
      ]
     },
     "execution_count": 9,
     "metadata": {},
     "output_type": "execute_result"
    }
   ],
   "source": [
    "news.Web.unique()"
   ]
  },
  {
   "cell_type": "code",
   "execution_count": 9,
   "metadata": {
    "scrolled": false
   },
   "outputs": [
    {
     "data": {
      "text/html": [
       "<div>\n",
       "<style scoped>\n",
       "    .dataframe tbody tr th:only-of-type {\n",
       "        vertical-align: middle;\n",
       "    }\n",
       "\n",
       "    .dataframe tbody tr th {\n",
       "        vertical-align: top;\n",
       "    }\n",
       "\n",
       "    .dataframe thead th {\n",
       "        text-align: right;\n",
       "    }\n",
       "</style>\n",
       "<table border=\"1\" class=\"dataframe\">\n",
       "  <thead>\n",
       "    <tr style=\"text-align: right;\">\n",
       "      <th></th>\n",
       "      <th>new_id</th>\n",
       "      <th>Título</th>\n",
       "      <th>Web</th>\n",
       "      <th>El Confidencial</th>\n",
       "      <th>El Mundo</th>\n",
       "      <th>El País</th>\n",
       "      <th>ABC</th>\n",
       "      <th>El Economista</th>\n",
       "      <th>Marca</th>\n",
       "      <th>La Razón</th>\n",
       "      <th>Cinco Días</th>\n",
       "      <th>As</th>\n",
       "      <th>Expansión</th>\n",
       "    </tr>\n",
       "  </thead>\n",
       "  <tbody>\n",
       "    <tr>\n",
       "      <th>0</th>\n",
       "      <td>gen_2_230720</td>\n",
       "      <td>Detienen al director de una residencia por dro...</td>\n",
       "      <td>El Confidencial</td>\n",
       "      <td>1.0</td>\n",
       "      <td>0.0</td>\n",
       "      <td>0.0</td>\n",
       "      <td>0.0</td>\n",
       "      <td>0.0</td>\n",
       "      <td>0.0</td>\n",
       "      <td>0.0</td>\n",
       "      <td>0.0</td>\n",
       "      <td>0.0</td>\n",
       "      <td>0.0</td>\n",
       "    </tr>\n",
       "    <tr>\n",
       "      <th>1</th>\n",
       "      <td>gen_3_230720</td>\n",
       "      <td>El Supremo revoca los permisos de Forcadell y ...</td>\n",
       "      <td>El Confidencial</td>\n",
       "      <td>1.0</td>\n",
       "      <td>0.0</td>\n",
       "      <td>0.0</td>\n",
       "      <td>0.0</td>\n",
       "      <td>0.0</td>\n",
       "      <td>0.0</td>\n",
       "      <td>0.0</td>\n",
       "      <td>0.0</td>\n",
       "      <td>0.0</td>\n",
       "      <td>0.0</td>\n",
       "    </tr>\n",
       "    <tr>\n",
       "      <th>2</th>\n",
       "      <td>gen_4_230720</td>\n",
       "      <td>El 'efecto mariposa' del coronavirus: solo los...</td>\n",
       "      <td>El Confidencial</td>\n",
       "      <td>1.0</td>\n",
       "      <td>0.0</td>\n",
       "      <td>0.0</td>\n",
       "      <td>0.0</td>\n",
       "      <td>0.0</td>\n",
       "      <td>0.0</td>\n",
       "      <td>0.0</td>\n",
       "      <td>0.0</td>\n",
       "      <td>0.0</td>\n",
       "      <td>0.0</td>\n",
       "    </tr>\n",
       "    <tr>\n",
       "      <th>3</th>\n",
       "      <td>gen_5_230720</td>\n",
       "      <td>Andalucía y Galicia se rebelan contra el fondo...</td>\n",
       "      <td>El Confidencial</td>\n",
       "      <td>1.0</td>\n",
       "      <td>0.0</td>\n",
       "      <td>0.0</td>\n",
       "      <td>0.0</td>\n",
       "      <td>0.0</td>\n",
       "      <td>0.0</td>\n",
       "      <td>0.0</td>\n",
       "      <td>0.0</td>\n",
       "      <td>0.0</td>\n",
       "      <td>0.0</td>\n",
       "    </tr>\n",
       "    <tr>\n",
       "      <th>4</th>\n",
       "      <td>gen_6_230720</td>\n",
       "      <td>Los aliados del Gobierno dan un aviso para los...</td>\n",
       "      <td>El Confidencial</td>\n",
       "      <td>1.0</td>\n",
       "      <td>0.0</td>\n",
       "      <td>0.0</td>\n",
       "      <td>0.0</td>\n",
       "      <td>0.0</td>\n",
       "      <td>0.0</td>\n",
       "      <td>0.0</td>\n",
       "      <td>0.0</td>\n",
       "      <td>0.0</td>\n",
       "      <td>0.0</td>\n",
       "    </tr>\n",
       "  </tbody>\n",
       "</table>\n",
       "</div>"
      ],
      "text/plain": [
       "         new_id                                             Título  \\\n",
       "0  gen_2_230720  Detienen al director de una residencia por dro...   \n",
       "1  gen_3_230720  El Supremo revoca los permisos de Forcadell y ...   \n",
       "2  gen_4_230720  El 'efecto mariposa' del coronavirus: solo los...   \n",
       "3  gen_5_230720  Andalucía y Galicia se rebelan contra el fondo...   \n",
       "4  gen_6_230720  Los aliados del Gobierno dan un aviso para los...   \n",
       "\n",
       "               Web  El Confidencial  El Mundo  El País  ABC  El Economista  \\\n",
       "0  El Confidencial              1.0       0.0      0.0  0.0            0.0   \n",
       "1  El Confidencial              1.0       0.0      0.0  0.0            0.0   \n",
       "2  El Confidencial              1.0       0.0      0.0  0.0            0.0   \n",
       "3  El Confidencial              1.0       0.0      0.0  0.0            0.0   \n",
       "4  El Confidencial              1.0       0.0      0.0  0.0            0.0   \n",
       "\n",
       "   Marca  La Razón  Cinco Días   As  Expansión  \n",
       "0    0.0       0.0         0.0  0.0        0.0  \n",
       "1    0.0       0.0         0.0  0.0        0.0  \n",
       "2    0.0       0.0         0.0  0.0        0.0  \n",
       "3    0.0       0.0         0.0  0.0        0.0  \n",
       "4    0.0       0.0         0.0  0.0        0.0  "
      ]
     },
     "execution_count": 9,
     "metadata": {},
     "output_type": "execute_result"
    }
   ],
   "source": [
    "newsWeb_df = news.copy()\n",
    "\n",
    "#Para cada fila en el marco de datos, recorra la lista de géneros y coloque un 1 en la columna \n",
    "#correspondiente\n",
    "for index, row in newsWeb_df.iterrows():\n",
    "    newsWeb_df.at[index, row['Web']] = 1\n",
    "\n",
    "newsWeb_df.head()"
   ]
  },
  {
   "cell_type": "code",
   "execution_count": null,
   "metadata": {},
   "outputs": [],
   "source": [
    "newsWeb_df.to_csv(r'C:\\Users\\maria\\Desktop\\MasterBD\\TFM\\datos\\newsWeb_df.csv',sep=';',encoding='utf-8-sig', index = True)"
   ]
  }
 ],
 "metadata": {
  "colab": {
   "include_colab_link": true,
   "name": "collaborative-filtering.ipynb",
   "provenance": []
  },
  "kernelspec": {
   "display_name": "Python 3",
   "language": "python",
   "name": "python3"
  },
  "language_info": {
   "codemirror_mode": {
    "name": "ipython",
    "version": 3
   },
   "file_extension": ".py",
   "mimetype": "text/x-python",
   "name": "python",
   "nbconvert_exporter": "python",
   "pygments_lexer": "ipython3",
   "version": "3.7.8"
  }
 },
 "nbformat": 4,
 "nbformat_minor": 1
}
